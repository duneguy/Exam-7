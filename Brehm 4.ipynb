{
 "cells": [
  {
   "cell_type": "markdown",
   "metadata": {
    "slideshow": {
     "slide_type": "slide"
    }
   },
   "source": [
    "## Operational Risk\n",
    "\n",
    "- <b>Definition</b>: Risk of loss resulting from inadequate or failed internal processes, people and systems or from external events.\n",
    "    - Includes legal risk\n",
    "    - Excludes strategic and reputational risk"
   ]
  },
  {
   "cell_type": "markdown",
   "metadata": {
    "slideshow": {
     "slide_type": "slide"
    }
   },
   "source": [
    "## Types of Operational Risk Loss Events\n",
    "\n",
    "1. Internal fraud\n",
    "2. External fraud\n",
    "3. Employment practices and workplace safety\n",
    "4. Clients, products and business practices\n",
    "5. Damage to physical assets\n",
    "6. Business disrpution and system failures\n",
    "7. Execution, delivery and process mangement"
   ]
  },
  {
   "cell_type": "markdown",
   "metadata": {
    "slideshow": {
     "slide_type": "slide"
    }
   },
   "source": [
    "## Plan Loss Ratios\n",
    "\n",
    "- <U>Root reason</U> for insurer failure is the accumulation of too much exposure for the supporting asset base.\n",
    "- Deficient carried reserves are indicators of deficient intial reserving (driven by optimistic plan loss ratio) OR premature reserve releases.\n",
    "- If we use the BF method with ELR set as initial plan loss ratio (based on prior-year ult. loss ratios) then by bridging process the loss ratios can simultaneously deteriorate."
   ]
  },
  {
   "cell_type": "markdown",
   "metadata": {
    "slideshow": {
     "slide_type": "subslide"
    }
   },
   "source": [
    "<center><img src = 'images/Brehm_Plan_LR.JPG'></center>"
   ]
  },
  {
   "cell_type": "markdown",
   "metadata": {
    "slideshow": {
     "slide_type": "slide"
    }
   },
   "source": [
    "## UW Cycle Management\n",
    "\n",
    "#### Naive cycle management\n",
    "- If a company follows the goal to \"maintain market share\" then during the soft market it might reduce rate to maintain premium volume.\n",
    "    - When the UW cycle switches to hard market, then the insurer will recognize increased losses and risk being downgraded /liquidated."
   ]
  },
  {
   "cell_type": "markdown",
   "metadata": {
    "slideshow": {
     "slide_type": "subslide"
    }
   },
   "source": [
    "#### Areas of focus under effective UW cycle management\n",
    "\n",
    "- Intellectual property\n",
    "    - Retain talent and develop their skills during capacity contraction\n",
    "- Underwriter incentives\n",
    "    - Should not be written once a year\n",
    "    - It should be fluid and change with market conditions.\n",
    "- Market overreaction\n",
    "    - Insurance industry overracts to UW cycles.\n",
    "- Owner education\n",
    "    - Premium volume will drop under cycle management.\n",
    "    - Overhead expense ratio is expected to rise as premium volume decreases."
   ]
  },
  {
   "cell_type": "markdown",
   "metadata": {
    "slideshow": {
     "slide_type": "slide"
    }
   },
   "source": [
    "## Agency Theory Perspective\n",
    "\n",
    "- Management's interests are not always aligned with those of firm owners.\n",
    "    - Leads to operational risk\n",
    "- Best to make changes to incentive plans to align interests.\n",
    "\n",
    "#### Goals of agency theory\n",
    "- Aligning management and owner interests.\n",
    "- Understanding the impacts of potential divergence."
   ]
  },
  {
   "cell_type": "markdown",
   "metadata": {
    "slideshow": {
     "slide_type": "slide"
    }
   },
   "source": [
    "## Control Self-Assessment (CSA)\n",
    "\n",
    "<b>Definition:</b> Process through which internal control effectiveness is examined and assessed.The goal is to provide reasonable assurance that all business objectives will be met.\n",
    "\n",
    "#### Primary objectives of internal controls\n",
    "- Reliability and integrity of information.\n",
    "- Compliance with policies, plans, procedures, laws, regulations and contracts.\n",
    "- Safeguarding of assets.\n",
    "- Economical and efficient use of resources.\n",
    "- Accomplishment of established objectives and goals for operations or programs."
   ]
  },
  {
   "cell_type": "markdown",
   "metadata": {
    "slideshow": {
     "slide_type": "slide"
    }
   },
   "source": [
    "## Key Risk Indicators (KRIs)\n",
    "\n",
    "- KRIs are forward-looking indicators of risk, whereas historical losses are backward-looking.\n",
    "\n",
    "## Six Sigma\n",
    "\n",
    "- Focuses on process redesign, project management, customer feedback, internal communication, design tradeoffs, documentation and control plans."
   ]
  },
  {
   "cell_type": "markdown",
   "metadata": {
    "slideshow": {
     "slide_type": "slide"
    }
   },
   "source": [
    "## Strategic Risk\n",
    "- <b>Strategic risk-</b> Risk associated with choosing the wrong plan, given the current and expected market conditions.\n",
    "- <b>Strategy-</b> Long-term series of actions designed to take a company from its current state to its desired future state, and aims to provide a competitive advantage over other companeis in the same market.\n",
    "\n",
    "- Strategy is NOT:\n",
    "    - Pure business planning. \n",
    "        - Under strategy, Company fully understands the markets in which its competing.\n",
    "    - Tactics - they are short-term and detailed. (opposite of strategy)"
   ]
  },
  {
   "cell_type": "markdown",
   "metadata": {
    "slideshow": {
     "slide_type": "subslide"
    }
   },
   "source": [
    "## Example / Categories of Strategic Risks For An Insurer\n",
    "\n",
    "1. Industry\n",
    "2. Technology\n",
    "3. Brand\n",
    "4. Competitor\n",
    "5. Customer\n",
    "6. Project\n",
    "7. Stagnation"
   ]
  },
  {
   "cell_type": "markdown",
   "metadata": {
    "slideshow": {
     "slide_type": "subslide"
    }
   },
   "source": [
    "## Strategic Risk Management\n",
    "\n",
    "- Need to use scenario planning\n",
    "\n",
    "#### Scenario Planning\n",
    "\n",
    "- Using ERM models, scenario planning expands the single estimate into range of outcomes.\n",
    "    - Company would alter their plan based on how market conditions play out.\n",
    "    \n",
    "- <b>Advantages</b>\n",
    "    - Company thinks through responses beforehand and saves time during crucial moments.\n",
    "    - Organizational inertia is reduced."
   ]
  },
  {
   "cell_type": "markdown",
   "metadata": {
    "slideshow": {
     "slide_type": "subslide"
    }
   },
   "source": [
    "#### Agent-based modeling and strategic interaction efforts\n",
    "- Need agent-based modeling (ABM) to capture the dynamics of various companies executing their strategies.\n",
    "- <b>ABM:</b> Method for studying systems of ineracting \"agents\". These \"agents\" are independent entities capable of assessing the environment, selecting courses of action and using those selections to effect change on the environment."
   ]
  }
 ],
 "metadata": {
  "celltoolbar": "Slideshow",
  "kernelspec": {
   "display_name": "Python 3",
   "language": "python",
   "name": "python3"
  },
  "language_info": {
   "codemirror_mode": {
    "name": "ipython",
    "version": 3
   },
   "file_extension": ".py",
   "mimetype": "text/x-python",
   "name": "python",
   "nbconvert_exporter": "python",
   "pygments_lexer": "ipython3",
   "version": "3.7.1"
  }
 },
 "nbformat": 4,
 "nbformat_minor": 2
}
