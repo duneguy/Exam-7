{
 "cells": [
  {
   "cell_type": "markdown",
   "metadata": {
    "slideshow": {
     "slide_type": "slide"
    }
   },
   "source": [
    "- Verrakk concentrates on two areas where expert knowledge is applied:\n",
    "    - The BF method\n",
    "    - The insertion of prior knowledge about individual development factors in the CL method.\n",
    "    \n",
    "    \n",
    "- Verrall wants us to be able to calculate ranges even if we tinker with the LDFs"
   ]
  },
  {
   "cell_type": "markdown",
   "metadata": {
    "slideshow": {
     "slide_type": "slide"
    }
   },
   "source": [
    "# Stochastic Models for the CL Method\n",
    "\n",
    "### Mack's Model\n",
    "\n",
    "$$E[D_{i,j}] = \\lambda_jD_{1,j-1}$$\n",
    "$$Var(D_{i,j}) = \\sigma_j^2D_{i,j-1}$$\n",
    "\n",
    "##### Advantage\n",
    "- Parameter estimates and prediction errors can be obtained using a spreadsheet. (it's simple)\n",
    "\n",
    "##### Disadvantages\n",
    "- There is no predictive distribution\n",
    "- Additional parameters must be estimated in order to calculate the variance"
   ]
  },
  {
   "cell_type": "markdown",
   "metadata": {
    "slideshow": {
     "slide_type": "subslide"
    }
   },
   "source": [
    "### ODP Model\n",
    "\n",
    "$$E[C_{i,j}] = x_iy_j$$\n",
    "$$Var(C_{i,j}) = \\varphi x_iy_j$$\n",
    "\n",
    "where, $x_i$ is expected ult. losses and $y_j$ is ratio of loss emergence.\n",
    "\n",
    "##### Advantages\n",
    "- The reserve estimates are same as the CL method.\n",
    "- Doesn't necessarily breakdown if there are some negative incremental values.\n",
    "\n",
    "##### Disadvantages\n",
    "- It requires the column and row sums of incremental values to be positive.\n",
    "- It's hard to see the connection to the CL method from the formulation above."
   ]
  },
  {
   "cell_type": "markdown",
   "metadata": {
    "slideshow": {
     "slide_type": "subslide"
    }
   },
   "source": [
    "### Over-dispersed Negative Binomial Model\n",
    "\n",
    "$$E[D_{i,j}] = \\lambda_j D_{i,j-1} \\text{ and } E[C_{i,j}] = (\\lambda_j - 1)D_{i,j-1}$$\n",
    "$$Var(D_{i,j}) = Var(C_{i,j}) = \\varphi \\lambda_j(\\lambda_j - 1)D_{i,j-1}$$\n",
    "\n",
    "##### Advantages\n",
    "- Gives the same reserve estimate and has the same form as the CL method\n",
    "- Doesn't necessarily breakdown if there are some negative incremental values (but the sum of the column needs to be positive)\n",
    "\n",
    "##### Disadvantage\n",
    "- Column sum of incremental losses must be positive (or variance would be negative) "
   ]
  },
  {
   "cell_type": "markdown",
   "metadata": {
    "slideshow": {
     "slide_type": "subslide"
    }
   },
   "source": [
    "### Normal Approximation to the Negative Binomial Model\n",
    "\n",
    "$$E[D_{i,j}] = \\lambda_j D_{i,j-1} \\text{ and } E[C_{i,j}] = (\\lambda_j - 1)D_{i,j-1}$$\n",
    "$$Var(D_{i,j}) = Var(C_{i,j}) = \\varphi_j D_{i,j-1}$$\n",
    "\n",
    "##### Advantage\n",
    "- Can handle negative incremental losses\n",
    "\n",
    "##### Disadvantage\n",
    "- Additional parameters must be estimated in order to calculate the variance."
   ]
  },
  {
   "cell_type": "markdown",
   "metadata": {
    "slideshow": {
     "slide_type": "slide"
    }
   },
   "source": [
    "- Mean squared error of prediction (MSEP)/ prediction variance = process variance + parameter variance\n",
    "- $\\sqrt{\\text{MSEP}}$ = Root mean squared error of prediction (RMSEP)\n",
    "\n",
    "\n",
    "Standard error vs prediction error\n",
    "- The std. error = $\\sqrt{\\text{parameter variance}}$\n",
    "- prection error = $\\sqrt{\\text{process variance + parameter variance}}$"
   ]
  },
  {
   "cell_type": "markdown",
   "metadata": {
    "slideshow": {
     "slide_type": "slide"
    }
   },
   "source": [
    "# Incorporating Expert Opinion in CL\n",
    "\n",
    "- We can specify the mean ($\\lambda$) and varaiance of a development factor.\n",
    "    - If we specify large variance, then the estimate will be pulled closer to the CL development factor.\n",
    "    - With low variance, the development factor will be pulled closeer to the specified $\\lambda$"
   ]
  },
  {
   "cell_type": "markdown",
   "metadata": {
    "slideshow": {
     "slide_type": "slide"
    }
   },
   "source": [
    "## Bayesian Model for the BF Method\n",
    "\n",
    "- Based on ODP distribution\n",
    "    - Here, $x_i$ represents the expected ultimate losses for the AY.\n",
    "    \n",
    "- We assume, $x_i \\sim Gamma(\\alpha_i,\\beta_i)$ [specified as prior distribution of $x_i$]\n",
    "\n",
    "$$E[x_i] = \\frac{\\alpha_i}{\\beta_i} = M_i$$\n",
    "$$Var(x_i) = \\frac{\\alpha_i}{\\beta_i^2} = \\frac{M_i}{\\beta_i}$$"
   ]
  },
  {
   "cell_type": "markdown",
   "metadata": {
    "slideshow": {
     "slide_type": "slide"
    }
   },
   "source": [
    "### BF Model - Stochastic in the Row Parameter Only\n",
    "\n",
    "- The bayesian model for BF method is credibility weighted between the CL and BF methods.\n",
    "\n",
    "<center><img src=\"images/Verrall_Bayesian_BF.jpg\"></center>\n",
    "\n",
    "- Notice, increasing $\\beta_i$ causes $Z_{i,j}$ to decrease $\\rightarrow$ lower credibility for CL method and higher for BF method."
   ]
  },
  {
   "cell_type": "markdown",
   "metadata": {
    "slideshow": {
     "slide_type": "subslide"
    }
   },
   "source": [
    "<center><img src=\"images/Verrall_BF_1.jpg\"></center>\n",
    "<center><img src=\"images/Verrall_BF_2.jpg\"></center>"
   ]
  },
  {
   "cell_type": "markdown",
   "metadata": {
    "slideshow": {
     "slide_type": "subslide"
    }
   },
   "source": [
    "<center><img src=\"images/Verrall_BF_3.jpg\"></center>"
   ]
  },
  {
   "cell_type": "markdown",
   "metadata": {
    "slideshow": {
     "slide_type": "slide"
    }
   },
   "source": [
    "## BF Model - Stochastic in the Row and Column Parameters\n",
    "\n",
    "- We still assume Gamma distribution for the row parameter, but assume improper gamma distribution for column parameter.\n",
    "    - This gives us a full stochastic model\n",
    "    \n",
    "<center><img src=\"images/Verrall_BF_2_1.jpg\"></center>\n",
    "<center><img src=\"images/Verrall_BF_2_2.jpg\"></center>\n"
   ]
  },
  {
   "cell_type": "markdown",
   "metadata": {
    "slideshow": {
     "slide_type": "subslide"
    }
   },
   "source": [
    "### Mechanics\n",
    "\n",
    "- First calculate the age-to-age factors since we using improper gamma distribution as prior for column parameter (improper $\\rightarrow$ large variance $\\rightarrow$ CL)\n",
    "- Complete the triangle using row parameter and column parameter calculated in prior step.\n",
    "- Use the completed triangle to calculate $\\gamma_i$ parameters.\n",
    "- Using $\\gamma_i$, calculate the expected development row-by-row"
   ]
  }
 ],
 "metadata": {
  "celltoolbar": "Slideshow",
  "kernelspec": {
   "display_name": "Python 3",
   "language": "python",
   "name": "python3"
  },
  "language_info": {
   "codemirror_mode": {
    "name": "ipython",
    "version": 3
   },
   "file_extension": ".py",
   "mimetype": "text/x-python",
   "name": "python",
   "nbconvert_exporter": "python",
   "pygments_lexer": "ipython3",
   "version": "3.7.1"
  }
 },
 "nbformat": 4,
 "nbformat_minor": 2
}
