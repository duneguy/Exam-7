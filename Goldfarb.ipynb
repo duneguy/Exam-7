{
 "cells": [
  {
   "cell_type": "markdown",
   "metadata": {
    "slideshow": {
     "slide_type": "slide"
    }
   },
   "source": [
    "We are trying to find out the value of the firm using various models:\n",
    "\n",
    "1. Dividend Discount Model (DDM)\n",
    "2. Discounted Cash Flow (DCF) \n",
    "    - Free Cash Flow to Firm (FCFF)\n",
    "    - Free Cash Flow to Equity (FCFE)\n",
    "3. Abnormal Earnings (AE)\n",
    "4. Relative Valuation Using Multiples\n",
    "5. Option Pricing Theory"
   ]
  },
  {
   "cell_type": "markdown",
   "metadata": {
    "slideshow": {
     "slide_type": "slide"
    }
   },
   "source": [
    "## Dividend Discount Model\n",
    "\n",
    "- The value of a share of stock is the discounted present value of the expected future dividends:\n",
    "\n",
    "$$V_0 = \\frac{E[Div_1]}{(1+k)} + \\frac{E[Div_2]}{(1+k)^2} + \\frac{E[Div_3]}{(1+k)^3} + \\cdots$$\n",
    "\n",
    "- If the dividends are expected to grow into perpetuity:\n",
    "\n",
    "$$V_0 = \\frac{E[Div_1]}{k-g}$$"
   ]
  },
  {
   "cell_type": "markdown",
   "metadata": {
    "slideshow": {
     "slide_type": "subslide"
    }
   },
   "source": [
    "- When we use terminal value and finite dividends to project firm value:\n",
    "\n",
    "$$V_0 = \\frac{E[Div_1]}{(1+k)} + \\frac{E[Div_2]}{(1+k)^2} + \\frac{E[Div_3]}{(1+k)^3} + \\frac{\\text{Terminal Value}}{(1+k)^3}$$\n",
    "\n",
    "where,<br>\n",
    "Terminal Value = $\\frac{E[Div_4]}{k-g} = E[Div_3] \\cdot \\frac{1+g}{k-g}$\n",
    "\n",
    "<br><br>\n",
    "\n",
    "Note, terminal values can be huge, so need to be careful about growth rate (g) and discount rate (k)."
   ]
  },
  {
   "cell_type": "markdown",
   "metadata": {
    "slideshow": {
     "slide_type": "subslide"
    }
   },
   "source": [
    "#### Dividend Growth Rates Beyond Forecast Horizon\n",
    "\n",
    "1. Extrapolate the growth rate into the future horizon. - Not shown\n",
    "2. Dividend payout ratio (portion of earnings paid as dividends) and Return on Equity (profit per dollar of reinvested earnings).\n",
    "\n",
    "<b> Approach 2 </b>\n",
    "\n",
    "$$g = plowback \\cdot ROE$$\n",
    "\n",
    "where, plowback refers to the portion of earnings retained and reinvested."
   ]
  },
  {
   "cell_type": "markdown",
   "metadata": {
    "slideshow": {
     "slide_type": "subslide"
    }
   },
   "source": [
    "#### Discount rate\n",
    "\n",
    "- Can be based on the CAPM model: $k = r_f + \\beta(E[r_m] - r_f)$\n",
    "\n",
    "#### Beta\n",
    "- Firm beta - calculated using linear regression.\n",
    "- Industry beta - use an industrywide mean or median value."
   ]
  },
  {
   "cell_type": "markdown",
   "metadata": {
    "slideshow": {
     "slide_type": "subslide"
    }
   },
   "source": [
    "#### Risk-Free Rate\n",
    "\n",
    "- If we are using the T-bonds, we need to subtract liquidity premium (1.2%) since longer-term investments include it. "
   ]
  },
  {
   "cell_type": "markdown",
   "metadata": {
    "slideshow": {
     "slide_type": "subslide"
    }
   },
   "source": [
    "<table><tr><td><img src='images/DDM_1.JPG'></td><td><img src='images/DDM_2.JPG'></td></tr></table>"
   ]
  },
  {
   "cell_type": "markdown",
   "metadata": {
    "slideshow": {
     "slide_type": "subslide"
    }
   },
   "source": [
    "<table><tr><td><img src='images/DDM_3.JPG'></td><td><img src='images/DDM_4.JPG'></td></tr></table>"
   ]
  },
  {
   "cell_type": "markdown",
   "metadata": {
    "slideshow": {
     "slide_type": "subslide"
    }
   },
   "source": [
    "#### Limitations of DDM\n",
    "\n",
    "- Actual dividends are discretionary and can be difficult to forecast.\n",
    "- Due to increased use of stock buybacks as a vehicle to returning funds to shareholders, we may need to redefine \"dividend\"."
   ]
  },
  {
   "cell_type": "markdown",
   "metadata": {
    "slideshow": {
     "slide_type": "slide"
    }
   },
   "source": [
    "## Private vs Equilibrium Market Valuation\n",
    "\n",
    "- <b>Private valuation -</b> Assumes that individual investors have their own views of \"risk\". Potential investments are assessed relative to their existing portfolios, resulting in the same investment having different value to different investors.\n",
    "\n",
    "- <b>Equilibrium market valuation -</b> Assumes that all investors hold the same portfolio and assess \"risk\" in identical fashions. Thus, investments will have the same value for all investors."
   ]
  },
  {
   "cell_type": "markdown",
   "metadata": {
    "slideshow": {
     "slide_type": "slide"
    }
   },
   "source": [
    "## DDM vs DCF\n",
    "\n",
    "#### Growth Rates\n",
    "- DDM: If not paid as dividend then it's reinvested.\n",
    "- FCFE: Use increase in required capital to determine reinvestment. Then combine with ROE to get growth rate.\n",
    "\n",
    "#### Discount Rates\n",
    "- Same discount rate is used in practice. In theory, we should use discount rates based on risk from marketable securities for DDM and UW risk for FCFE."
   ]
  },
  {
   "cell_type": "markdown",
   "metadata": {
    "slideshow": {
     "slide_type": "slide"
    }
   },
   "source": [
    "## Discounted Cash Flow (DCF)\n",
    "\n",
    "#### Free Cash Flow to the Firm\n",
    "- Values equity indirectly by valuing the entire firm, and then subtracting off the market value of the debt.\n",
    "\n",
    "#### Free Cash Flow to Equity\n",
    "- <b>Purpose -</b> Represents the cash flow that could be paid to equityholders in any particular period.\n",
    "<center><img src = 'images/FCFE.JPG'></center>"
   ]
  },
  {
   "cell_type": "markdown",
   "metadata": {
    "slideshow": {
     "slide_type": "subslide"
    }
   },
   "source": [
    "- <b>Non-Cash Charges -</b> Expenses that are deducted under GAAP accounting but do not represent actual cash expenditures.\n",
    "    - Loss and expense reserves are the biggest components, but they are also considered under capital expenditures and hence cancel out.\n",
    "- <b>Working Capital Investment -</b> Reflects short-term assets held to maintain operations, such as inventory or accounts receivable.\n",
    "- <b>Capital Expenditures/Increase in Required Capital -</b> Refers to investment in property, plant, equipment and other physical items. Increase in regulatory and rating agency capital."
   ]
  },
  {
   "cell_type": "markdown",
   "metadata": {
    "slideshow": {
     "slide_type": "subslide"
    }
   },
   "source": [
    "<table><tr><td><img src='images/FCFE_1.JPG'>\n",
    "    <img src='images/FCFE_2.JPG'></td><td><img src='images/FCFE_3.JPG'></td></tr></table>"
   ]
  },
  {
   "cell_type": "markdown",
   "metadata": {
    "slideshow": {
     "slide_type": "subslide"
    }
   },
   "source": [
    "<center><img src='images/FCFE_4.JPG'></center>"
   ]
  },
  {
   "cell_type": "markdown",
   "metadata": {
    "slideshow": {
     "slide_type": "subslide"
    }
   },
   "source": [
    "<center><img src='images/FCFE_5.JPG'></center>"
   ]
  },
  {
   "cell_type": "markdown",
   "metadata": {
    "slideshow": {
     "slide_type": "slide"
    }
   },
   "source": [
    "## Abnormal Earnings\n",
    "\n",
    "- We are valuing the company based on it's ability to earn higher return than the expected.\n",
    "    - If company's earnings = expected earnings then book value equals market value.\n",
    "\n",
    "$$AE_t = NI_t - k \\cdot BV_{t-1}= \\color{blue}{(ROE_t - k)BV_{t-1}}$$<br><br>\n",
    "$$\\text{Equity Value}= BV_0 + \\sum^{\\inf}_{t=1} \\frac{E[AE_t]}{(1+k)^t}$$\n"
   ]
  },
  {
   "cell_type": "markdown",
   "metadata": {
    "slideshow": {
     "slide_type": "subslide"
    }
   },
   "source": [
    "#### Important Note About AE\n",
    "- Abnormal earnings are not expected to continue into perpetuity and expected to decline to zero.\n",
    "    - Each year, the amount decreases by $\\frac{1}{n+1}$ times the latest year's AE. \n",
    "- Adjust BV to reflect <b>tangible book value</b> (i.e. remove goodwill)."
   ]
  },
  {
   "cell_type": "markdown",
   "metadata": {
    "slideshow": {
     "slide_type": "subslide"
    }
   },
   "source": [
    "<table><tr><td><img src='images/AE_1.JPG'>\n",
    "    <img src='images/AE_2.JPG'></td><td><img src='images/AE_3.JPG'></td></tr></table>"
   ]
  },
  {
   "cell_type": "markdown",
   "metadata": {
    "slideshow": {
     "slide_type": "subslide"
    }
   },
   "source": [
    "<center><img src='images/AE_4.JPG'></center>"
   ]
  },
  {
   "cell_type": "markdown",
   "metadata": {
    "slideshow": {
     "slide_type": "slide"
    }
   },
   "source": [
    "## Relative Valuation Using Multiples\n",
    "\n",
    "#### Price-Earnings (P-E) Ratio [Market Multiple]\n",
    "$$P_0 = \\frac{E[\\text{Earnings Per Share}] \\cdot \\text{Dividend Payout Ratio}}{k-g}$$<br><br>\n",
    "$$\\text{P-E Ratio} = \\frac{P_0}{EPS} = \\frac{\\text{Dividend Payout Ratio}}{k-g}$$\n",
    "\n",
    "Note, if we use future expected earnings then we get <b>forward (or leading) P-E ratio</b>. If we use prior period's earnings, then we get <b>trailing P-E ratio</b>."
   ]
  },
  {
   "cell_type": "markdown",
   "metadata": {
    "slideshow": {
     "slide_type": "subslide"
    }
   },
   "source": [
    "#### Price to Book Value (P-BV) Ratio [Market Multiple]\n",
    "- Preferred over the P-E ratio when valuing banks, insurance companies and other financial services firms with alrge holdings in marketable securities.\n",
    "\n",
    "$$P_0 = BV_0 + \\frac{BV_0[ROE-k]}{k-g}$$<br><br>\n",
    "$$\\text{P-BV Ratio} = \\frac{P_0}{BV_0} = 1 + \\frac{ROE-k}{k-g}$$\n",
    "- If ROE will declines to the cost of capital due to competition then,<br><br>\n",
    "$$\\text{P-BV Ratio} = \\frac{P_0}{BV_0} = 1 + \\frac{ROE-k}{k-g}\\left[1-\\left(\\frac{1+g}{1+k}\\right)^n\\right]$$"
   ]
  },
  {
   "cell_type": "markdown",
   "metadata": {
    "slideshow": {
     "slide_type": "subslide"
    }
   },
   "source": [
    "- The last formula assume constant ROE until it drops to cost of capital. It does not assume linear drop in ROE.\n",
    "\n"
   ]
  },
  {
   "cell_type": "markdown",
   "metadata": {
    "slideshow": {
     "slide_type": "subslide"
    }
   },
   "source": [
    "<center><img src='images/Market_Multi_1.JPG'></center>\n",
    "<center><img src='images/Market_Multi_2.JPG'></center>"
   ]
  },
  {
   "cell_type": "markdown",
   "metadata": {
    "slideshow": {
     "slide_type": "subslide"
    }
   },
   "source": [
    "<center><img src='images/Market_Multi_3.JPG'></center>"
   ]
  },
  {
   "cell_type": "markdown",
   "metadata": {
    "slideshow": {
     "slide_type": "slide"
    }
   },
   "source": [
    "#### Market vs Transaction Multiples\n",
    "- Transaction multiples might be better since market and financial statement values fluctuate greatly.\n",
    "- Transaction multiples are based on merger and acquisition (M&A) prices or IPOs."
   ]
  },
  {
   "cell_type": "markdown",
   "metadata": {
    "slideshow": {
     "slide_type": "slide"
    }
   },
   "source": [
    "## Option Pricing Model\n",
    "\n",
    "- Equity can be viewed as a call option on the company's assets, with a strike price, K, equal to the face value of the debt. The asset value is S.\n",
    "\n",
    "$$Value = S \\cdot N(d_1) - Ke^{-rT} \\cdot N(d_2)$$<br>\n",
    "$$d_1 = \\frac{ln\\left(\\frac{S}{K}\\right) + \\left(r + \\frac{\\sigma^2}{2}\\right)T}{\\sigma \\sqrt{T}}$$<br>\n",
    "$$d_2 = d_1 - \\sigma \\sqrt{T}$$\n",
    "\n",
    "\n"
   ]
  },
  {
   "cell_type": "markdown",
   "metadata": {
    "slideshow": {
     "slide_type": "subslide"
    }
   },
   "source": [
    "#### Issues\n",
    "- Debt is not well defined for insurance companies.\n",
    "    - Policyholder liabilities are indistinguishable from other debt.\n",
    "    - It's difficult to approximate a single expiration date for all of an insurer's debt.\n",
    "    \n",
    "<br><br><br>\n",
    "- Option pricing seems to be more suited for figuring out whether we should undertake a project."
   ]
  }
 ],
 "metadata": {
  "celltoolbar": "Slideshow",
  "kernelspec": {
   "display_name": "Python 3",
   "language": "python",
   "name": "python3"
  },
  "language_info": {
   "codemirror_mode": {
    "name": "ipython",
    "version": 3
   },
   "file_extension": ".py",
   "mimetype": "text/x-python",
   "name": "python",
   "nbconvert_exporter": "python",
   "pygments_lexer": "ipython3",
   "version": "3.7.1"
  }
 },
 "nbformat": 4,
 "nbformat_minor": 2
}
