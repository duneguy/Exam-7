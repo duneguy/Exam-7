{
 "cells": [
  {
   "cell_type": "markdown",
   "metadata": {
    "slideshow": {
     "slide_type": "slide"
    }
   },
   "source": [
    "## Mack Assumptions (Venter)\n",
    "\n",
    "1. $E[q(w,d+1)|\\text{data to }w+d] = f(d)c(w,d)$\n",
    "    - States that expected value of the incremental losses to emerge in the next period is proportional to the total losees emerged to date.\n",
    "    \n",
    "2. Accident years are independent.\n",
    "    - Can't use CL method if CY effects exist.\n",
    "    \n",
    "3. $Var[q(w,d+1)|\\text{data to }w+d] = a[d,c(w,d)]$\n",
    "    - Variance of the next increment is a function of the age and the cumulative losses to date."
   ]
  }
 ],
 "metadata": {
  "celltoolbar": "Slideshow",
  "kernelspec": {
   "display_name": "Python 3",
   "language": "python",
   "name": "python3"
  },
  "language_info": {
   "codemirror_mode": {
    "name": "ipython",
    "version": 3
   },
   "file_extension": ".py",
   "mimetype": "text/x-python",
   "name": "python",
   "nbconvert_exporter": "python",
   "pygments_lexer": "ipython3",
   "version": "3.7.1"
  }
 },
 "nbformat": 4,
 "nbformat_minor": 2
}
