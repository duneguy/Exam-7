{
 "cells": [
  {
   "cell_type": "markdown",
   "metadata": {
    "slideshow": {
     "slide_type": "slide"
    }
   },
   "source": [
    "## Mack Assumptions (Venter)\n",
    "\n",
    "1. $E[q(w,d+1)|\\text{data to }w+d] = f(d)c(w,d)$\n",
    "    - States that expected value of the incremental losses to emerge in the next period is proportional to the total losees emerged to date.\n",
    "    \n",
    "2. Accident years are independent.\n",
    "    - Can't use CL method if CY effects exist.\n",
    "    \n",
    "3. $Var[q(w,d+1)|\\text{data to }w+d] = a[d,c(w,d)]$\n",
    "    - Variance of the next increment is a function of the age and the cumulative losses to date."
   ]
  },
  {
   "cell_type": "markdown",
   "metadata": {
    "slideshow": {
     "slide_type": "slide"
    }
   },
   "source": [
    "## Testable Implications of Assumptions\n",
    "\n",
    "1. Significance of factor f(d)\n",
    "2. Superiority of factor assumption to alternative emergence patterns such as :\n",
    "    - Linear with constant: $E[q(w,d+1)|\\text{data to }w+d] = f(d)c(w,d)+g(d)$\n",
    "    - Factor times parameter: $E[q(w,d+1)|\\text{data to }w+d] = f(d)h(w)$ (BF method)\n",
    "    - Including CY effect: $E[q(w,d+1)|\\text{data to }w+d] = f(d)h(w)g(w+d)$\n",
    "3. Linearity of model: look at residuals as function of c(w,d)\n",
    "4. Stability of factor: look at residuals as a function of time\n",
    "5. No correlation among columns\n",
    "6. No high or low diagonals (checking for CY effects)"
   ]
  },
  {
   "cell_type": "markdown",
   "metadata": {
    "slideshow": {
     "slide_type": "slide"
    }
   },
   "source": [
    "### Testing Implication 1\n",
    "\n",
    "- To be considered significant, the $\\lvert f(d)\\rvert > 2*std(f(d))$ \n",
    "    - For incremental we are testing if f(d) $\\ne$ 0. \n",
    "    - for cumulative we are testing if f(d) $\\ne$ 1.\n",
    "- Often distribution of f(d) has positive skew $\\rightarrow$ lognormal distribution"
   ]
  },
  {
   "cell_type": "markdown",
   "metadata": {
    "slideshow": {
     "slide_type": "slide"
    }
   },
   "source": [
    "### Testing Implication 2 - Superiority of Emergence Pattern \n",
    "\n",
    "- To compare different emergence patterns, we use the following statistics:\n",
    "    - Adjusted SSE = $\\frac{SSE}{(n-p)^2}$ where n is # of predicted points.\n",
    "        - Note: We assume first column is given, hence excluded from n count.\n",
    "    - AIC $\\approx$ SSE$* e^{\\frac{2p}{n}}$ (2p-n)\n",
    "    - BIC $\\approx$ SSE$* n^{\\frac{p}{n}}$ (n-p-n)\n",
    "<br><br>    \n",
    "- <b>Linear with constant</b>\n",
    "    - If constant is significant and factor is not, the additive CL method is more appropriate."
   ]
  },
  {
   "cell_type": "markdown",
   "metadata": {
    "slideshow": {
     "slide_type": "subslide"
    }
   },
   "source": [
    "- <b>Factor times parameter / BF method</b>\n",
    "    - Need (#AYs -1) paramaters for AY and (#development periods - 1) parameters for development period. (2m - 2 total params. for m AYs)\n",
    "        - First AY is assumed to be at ult. and First dev. period is assumed to be given.\n",
    "        - CL in comparison only needs m-1 paramters.\n",
    "    - CapeCod is a special case of BF since it assumes h(w) = h.\n",
    "        - Similar to CL, also has m-1 paramters."
   ]
  },
  {
   "cell_type": "markdown",
   "metadata": {
    "slideshow": {
     "slide_type": "subslide"
    }
   },
   "source": [
    "### Test 1\n",
    "- Graph q(w,d+1) or c(w,d+1) agaisnt c(w,d)\n",
    "    - Refer to the graphs in Brosius paper.\n"
   ]
  },
  {
   "cell_type": "markdown",
   "metadata": {
    "slideshow": {
     "slide_type": "subslide"
    }
   },
   "source": [
    "### Test 2\n",
    "- To test different emergence patterns, we first need to re-calculate values in the triangle for each emergence pattern.\n",
    "    - For BF method, we use an iterative procedure to minimize the sum of squared residuals\n",
    "        - $h(w) = \\frac{\\sum_d \\frac{q(w,d)}{f(d)}f(d)^2}{\\sum_d f(d)^2} = \\frac{\\sum_d q(w,d)f(d)}{\\sum_d f(d)^2}$<br><br>\n",
    "        - $f(d) = \\frac{\\sum_w \\frac{q(w,d)}{h(w)}h(w)^2}{\\sum_w h(w)^2} = \\frac{\\sum_w q(w,d)h(w)}{\\sum_w h(w)^2}$<br><br>\n",
    "        \n",
    "        "
   ]
  },
  {
   "cell_type": "markdown",
   "metadata": {
    "slideshow": {
     "slide_type": "subslide"
    }
   },
   "source": [
    "- For the BF method, we can also use weighted L-S if variance of the residuals are not constant over the triangle.\n",
    "    - if p = q = 1 then,\n",
    "        - $h(w)^2 = \\frac{\\sum_d \\frac{q(w,d)^2}{f(d)}}{\\sum_d f(d)}$<br><br>\n",
    "        - $f(d)^2 = \\frac{\\sum_w \\frac{q(w,d)^2}{h(w)}}{\\sum_w h(w)}$<br><br>\n",
    "        "
   ]
  },
  {
   "cell_type": "markdown",
   "metadata": {
    "slideshow": {
     "slide_type": "subslide"
    }
   },
   "source": [
    "- For CC model, basically the same as BF model, except we have single h value estimated as:<br><br>\n",
    "$$h = \\frac{\\sum_{w,d} q(w,d)f(d)}{\\sum_{w,d} f(d)^2}$$\n",
    "<br><br>\n",
    "- The additive CL and CC method will always produce the same adjusted SSE as they are the same method."
   ]
  },
  {
   "cell_type": "markdown",
   "metadata": {
    "slideshow": {
     "slide_type": "slide"
    }
   },
   "source": [
    "## Testing Implication 3 - Test of Linearity\n",
    "\n",
    "- We create a scatter plot of raw residuals against $C(w,d)$.\n",
    "- Can also use Mack's test by plotting $C(w,d+1)$ against $C(w,d)$."
   ]
  },
  {
   "cell_type": "markdown",
   "metadata": {
    "slideshow": {
     "slide_type": "slide"
    }
   },
   "source": [
    "## Testing Implication 4 - Test of Stability\n",
    "\n",
    "#### Test 1\n",
    "- Plot the incremental residuals against time (i.e. AY) - You basically go down the column\n",
    "\n",
    "#### Test 2\n",
    "- Look at moving average to see if the <b>fixed levels</b> are changing over time.\n",
    "\n",
    "#### Test 3\n",
    "- Use state-space model which compares the degree of instability of the observations around the current mean to the degree of instability in the mean itself over time.\n",
    "    - Helps to determine whether we should use all data or a weighted average that favors more recent years."
   ]
  },
  {
   "cell_type": "markdown",
   "metadata": {
    "slideshow": {
     "slide_type": "slide"
    }
   },
   "source": [
    "## Testing Implication 5 - Correlation of Development Factors\n",
    "\n",
    "- Venter assumes that his correlation test is a test for AY independence.\n",
    "- Calculate sample corr. for all pairs of columns and then count how many of them are significant.\n",
    "\n",
    "<center><img src=\"images/Venter-corr-1.jpg\"></center>\n",
    "<center><img src=\"images/Venter-corr-2.jpg\"></center>"
   ]
  },
  {
   "cell_type": "markdown",
   "metadata": {
    "slideshow": {
     "slide_type": "subslide"
    }
   },
   "source": [
    "- No. of testable pairs of columns: m = $n-3 \\choose 2$\n",
    "    - We have n-3 here because T cannot be calculated for column pairs with less than 3 development factors.\n",
    "<br><br>\n",
    "- No. of pairs that display significant correlation at 10% level is: X $\\sim$ binomial(m,.1)\n",
    "    - $E[x] =  np = .1m$\n",
    "    - $\\sigma_x = \\sqrt{np(1-p)} = \\sqrt{m*.1*.9} = .3\\sqrt{m}$\n",
    "    - We can use this to figure out max number of columns pairs that can have signficant correlation.\n",
    "    "
   ]
  },
  {
   "cell_type": "markdown",
   "metadata": {
    "slideshow": {
     "slide_type": "slide"
    }
   },
   "source": [
    "## Testable Implication 6 - CY Effect\n",
    "\n",
    "- <b>Additive diagonal effect</b>: Uses regression to test for diagonal effects.\n",
    "\n",
    "<center><img src=\"images/Venter-CY.jpg\"></center>"
   ]
  },
  {
   "cell_type": "markdown",
   "metadata": {
    "slideshow": {
     "slide_type": "subslide"
    }
   },
   "source": [
    "<center><img src=\"images/Venter-CY-2.jpg\"></center>"
   ]
  }
 ],
 "metadata": {
  "celltoolbar": "Slideshow",
  "kernelspec": {
   "display_name": "Python 3",
   "language": "python",
   "name": "python3"
  },
  "language_info": {
   "codemirror_mode": {
    "name": "ipython",
    "version": 3
   },
   "file_extension": ".py",
   "mimetype": "text/x-python",
   "name": "python",
   "nbconvert_exporter": "python",
   "pygments_lexer": "ipython3",
   "version": "3.7.1"
  }
 },
 "nbformat": 4,
 "nbformat_minor": 2
}
