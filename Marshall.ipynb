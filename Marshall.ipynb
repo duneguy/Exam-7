{
 "cells": [
  {
   "cell_type": "markdown",
   "metadata": {
    "slideshow": {
     "slide_type": "slide"
    }
   },
   "source": [
    "- In this paper, we are trying to calculate risk margins that would sit on top of insurance liabilities.<br><br>\n",
    "\n",
    "- <b>OCL:</b> Outstanding Claim Liabilities\n",
    "- <b>PL:</b> Premium Liabilities"
   ]
  },
  {
   "cell_type": "markdown",
   "metadata": {
    "slideshow": {
     "slide_type": "subslide"
    }
   },
   "source": [
    "<center><img src ='images/OCL_PL.JPG'></center>"
   ]
  },
  {
   "cell_type": "markdown",
   "metadata": {
    "slideshow": {
     "slide_type": "slide"
    }
   },
   "source": [
    "- <b>Lognormal distribution</b> is commonly used to determine the aggregate risk margin.\n",
    "- Normal distribution is used at lower probabilities of adequacy to generate higher risk margin than the heavy-tailed lognormal distribution."
   ]
  },
  {
   "cell_type": "markdown",
   "metadata": {
    "slideshow": {
     "slide_type": "slide"
    }
   },
   "source": [
    "## Proposed Framework\n",
    "\n",
    "- The authors propose two main sources of uncertainty: <b>systemic risk</b> and <b>independent risk</b>.<br><br>\n",
    "\n",
    "- <b>Systemic risk -</b> Risks that are common across valuation classes or claim groups.\n",
    "- <b>Independent risk -</b> Risks that occur due to the randomness inherent in the insurance process.\n",
    "<br><br>\n",
    "When we fit a model to data, we capture the systemic risk and the residuals are the independent risk."
   ]
  },
  {
   "cell_type": "markdown",
   "metadata": {
    "slideshow": {
     "slide_type": "subslide"
    }
   },
   "source": [
    "<center><img src ='images/Marshall.jpg'></center>"
   ]
  },
  {
   "cell_type": "markdown",
   "metadata": {
    "slideshow": {
     "slide_type": "slide"
    }
   },
   "source": [
    "## Systemic Risk\n",
    "\n",
    "- There are two sources of systemic risk:\n",
    "    - <b>Internal systemic risk -</b> risks internal to the insurance liability valuation/modeling process.\n",
    "        - Examples: Model structure, model parameterization and data accuracy.\n",
    "    - <b>External systemic risk -</b> risks external to the insurance laibility valuation/modeling process.\n",
    "        - Examples: Future trends coming in differently than expected."
   ]
  },
  {
   "cell_type": "markdown",
   "metadata": {
    "slideshow": {
     "slide_type": "slide"
    }
   },
   "source": [
    "## Sources of Internal Systemic Risk\n",
    "\n",
    "- <b>Specification error -</b> The error that arises because the model cannot adequately represent the insurance process.\n",
    "- <b>Parameter selection error -</b> The error that arises because the model cannot adequately measure all predictors of future claim costs or trends in these predictors.\n",
    "    - This relates to the actual selection of the model parameters. Parameter risk - of independent risk - relates to the proper parameterization of the selected predictors.\n",
    "- <b>Data error -</b> The error that arises due to the lack of credible data. Data error can also refer to an inadequate knowledge of the portfolio being analyzed, including pricing, UW and claims management processes."
   ]
  },
  {
   "cell_type": "markdown",
   "metadata": {
    "slideshow": {
     "slide_type": "slide"
    }
   },
   "source": [
    "## Analyzing Internal Systemic Risk\n",
    "<BR>\n",
    "<center><img src = 'images/Internal_Systemic_Risk_Analysis.JPG'></center>"
   ]
  },
  {
   "cell_type": "markdown",
   "metadata": {
    "slideshow": {
     "slide_type": "slide"
    }
   },
   "source": [
    "## Analyzing External Systemic Risk\n",
    "\n",
    "- Models can only be used to analyze historical external systemic risk.\n",
    "- Sources of external systemic risks (<I>mnemonic:</I> EEE-LLC-R):\n",
    "    - Economic and social risks – the uncertainty associated with inflation, social trends, etc.\n",
    "    - Legislative, political and claim inflation risks – the uncertainty associated with changes in the political landscape, shifts/trends in the level of claim settlements, etc.\n",
    "    - Claim management process change risk – the uncertainty associated with changes in claim reporting, payment, estimation, etc.\n",
    "    - Expense risk – the uncertainty associated with the cost of managing the run-off of the insurance liabilities or the cost of maintaining the unexpired risk until the date of loss.\n",
    "    \n",
    "    "
   ]
  },
  {
   "cell_type": "markdown",
   "metadata": {
    "slideshow": {
     "slide_type": "subslide"
    }
   },
   "source": [
    "- Event risk – the uncertainty associated with claim costs arising from events (i.e. cats), either natural or man-made.\n",
    "- Latent claim risk – the uncertainty associated with claims that arise from sources that are not currently covered (i.e. asbestos).\n",
    "- Recovery risk – the uncertainty associated with recoveries, either reinsurance or non-reinsurance."
   ]
  },
  {
   "cell_type": "markdown",
   "metadata": {
    "slideshow": {
     "slide_type": "slide"
    }
   },
   "source": [
    "## Independent Risk\n",
    "\n",
    "- Two sources of independent risk:\n",
    "    - <b>Parameter risk -</b> represents the extent to which the randomness associated with the insurance process affects the ability to select appropriate parameters in the valuation models.\n",
    "    - <b>Process risk -</b> represents the pure effect of the randomness associated with the insurance process."
   ]
  },
  {
   "cell_type": "markdown",
   "metadata": {
    "slideshow": {
     "slide_type": "slide"
    }
   },
   "source": [
    "- Traditional modeling techniques can only be used to analyze sources of independent risk and historical external systemic risk.\n",
    "    - We can't fully capture internal systemic risk or future external systemic risk.\n",
    "- Internal systemic risk - you would need to include other quantitative and qualitative analyses.\n",
    "    - In this paper, we use the balanced scorecard approach."
   ]
  },
  {
   "cell_type": "markdown",
   "metadata": {
    "slideshow": {
     "slide_type": "slide"
    }
   },
   "source": [
    "## Reasons Stochastic Modeling Techniques do NOT Capture All Source of Uncertainty\n",
    "\n",
    "- Good models fit past data well. This tends to remove past episodes of exernal systemic risk, leaving only random sources of uncertainty behind.\n",
    "- When past episodes of external systemic are not completely removed from the model, consideration must be given to whether or not we should expect these episodes to continue into the future.\n",
    "- Models normally do not capture uncertainty arising from internal systemic risk."
   ]
  },
  {
   "cell_type": "markdown",
   "metadata": {
    "slideshow": {
     "slide_type": "slide"
    }
   },
   "source": [
    "## Correlations Between Different Categories\n",
    "\n",
    "- <b>Independent risk -</b> uncorrelated with any other source of uncertainty.<br><br>\n",
    "- <b>Internal systemic risk -</b> uncorrelated with independent risk and external systemic risk. However, internal systemic risk tends to be correlated between valuation classes (same actuary effect and template models used across valuation classes) AND between OCL’s and PL’s (linkage between the PL methodology and the OCL methodology).<br><br>\n",
    "- <b>External systemic risk -</b> uncorrelated with independent and internal systemic risk.\n"
   ]
  },
  {
   "cell_type": "markdown",
   "metadata": {
    "slideshow": {
     "slide_type": "slide"
    }
   },
   "source": [
    "## Risk Margin Calculation Example\n",
    "<br>\n",
    "<table><tr><td><img src='images/Risk_Margin_1.JPG'></td><td><img src='images/Risk_Margin_2.JPG'></td></tr></table>"
   ]
  },
  {
   "cell_type": "markdown",
   "metadata": {
    "slideshow": {
     "slide_type": "subslide"
    }
   },
   "source": [
    "<center><img src='images/Risk_Margin_3.JPG'></center>\n",
    "<center><img src='images/Risk_Margin_4.JPG'></center>"
   ]
  },
  {
   "cell_type": "markdown",
   "metadata": {
    "slideshow": {
     "slide_type": "subslide"
    }
   },
   "source": [
    "<center><img src='images/Risk_Margin_5.JPG'></center>\n",
    "<center><img src='images/Risk_Margin_6.JPG'></center>"
   ]
  },
  {
   "cell_type": "markdown",
   "metadata": {
    "slideshow": {
     "slide_type": "subslide"
    }
   },
   "source": [
    "<center><img src='images/Risk_Margin_7.JPG'></center>"
   ]
  },
  {
   "cell_type": "markdown",
   "metadata": {
    "slideshow": {
     "slide_type": "slide"
    }
   },
   "source": [
    "## Scenario Testing\n",
    "\n",
    "- We should vary the assumptions underlying the claim estimates to reproduces liab+risk margin estimates.\n",
    "    - Helps understand what would need to happen to get to that figure."
   ]
  },
  {
   "cell_type": "markdown",
   "metadata": {
    "slideshow": {
     "slide_type": "slide"
    }
   },
   "source": [
    "## Hindsight Analysis\n",
    "\n",
    "- Compares past estimates of OCL's and PL's against the latest view of the equivalent liabilities.\n",
    "- Any movement/variation can be converted to a CoV reflecting actual past volatility. \n",
    "    - This volatility is a combination of independent risk, internal systemic risk and external systemic risk.\n",
    "- This is more useful for short-tailed portfolios where serial correlation between consecutive valuations is less significant."
   ]
  },
  {
   "cell_type": "markdown",
   "metadata": {
    "slideshow": {
     "slide_type": "slide"
    }
   },
   "source": [
    "<center><img src='images/Mechanical_HS.JPG'></center>\n",
    "<center><img src='images/Mechanical_HS_2.JPG'></center>"
   ]
  },
  {
   "cell_type": "markdown",
   "metadata": {
    "slideshow": {
     "slide_type": "slide"
    }
   },
   "source": [
    "## Internal Systemic Risk\n",
    "\n",
    "- We use the balanced scorecard approach to assess this risk.\n",
    "\n",
    "#### Balanced Scorecard Procedure\n",
    "- For each of the risk components (DPS) we identify some risk indications (best predictors identified, etc.) and then score them on a scale of 1 to 5.\n",
    "- These scores are then weighted together and then mapped to a CoV.\n",
    "- This gives you the internal system risk CoV for the specific LOB and liability type (OCL or PL)."
   ]
  },
  {
   "cell_type": "markdown",
   "metadata": {
    "slideshow": {
     "slide_type": "subslide"
    }
   },
   "source": [
    "<center><img src='images/ISR_1.JPG'></center>"
   ]
  },
  {
   "cell_type": "markdown",
   "metadata": {
    "slideshow": {
     "slide_type": "subslide"
    }
   },
   "source": [
    "<center><img src='images/ISR_2.JPG'></center>\n",
    "<center><img src='images/ISR_3.JPG'></center>"
   ]
  },
  {
   "cell_type": "markdown",
   "metadata": {
    "slideshow": {
     "slide_type": "slide"
    }
   },
   "source": [
    "## CoV for Internal Systemic Risk\n",
    "\n",
    "- Even perfect models should have 5% CoV attached to them.\n",
    "- CoV scales are not linear (increases at a decreasing rate).\n",
    "- CoV for long-tailed portfolios is higher than the short-tailed portfolios.\n",
    "    - Insurance process is harder to model for longer-tailed lines.\n",
    "    - Key predictors are less stable for long-tailed portfolios.\n",
    "- Same scale can be used for OCL and PL."
   ]
  }
 ],
 "metadata": {
  "celltoolbar": "Slideshow",
  "kernelspec": {
   "display_name": "Python 3",
   "language": "python",
   "name": "python3"
  },
  "language_info": {
   "codemirror_mode": {
    "name": "ipython",
    "version": 3
   },
   "file_extension": ".py",
   "mimetype": "text/x-python",
   "name": "python",
   "nbconvert_exporter": "python",
   "pygments_lexer": "ipython3",
   "version": "3.6.3"
  }
 },
 "nbformat": 4,
 "nbformat_minor": 2
}
