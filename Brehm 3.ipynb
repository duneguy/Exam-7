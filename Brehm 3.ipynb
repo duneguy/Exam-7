{
 "cells": [
  {
   "cell_type": "markdown",
   "metadata": {
    "slideshow": {
     "slide_type": "slide"
    }
   },
   "source": [
    "## Ways Assuming Incorrect Distributions Manifest\n",
    "\n",
    "1. <b>Estimation risk -</b> Arises from using only a sample of the universe of possible claims to estimate the parameters of distributions.\n",
    "2. <b>Projection risk -</b> Arises from projecting past trends into the future.\n",
    "3. <b>Model risk -</b> Arises from having the wrong models to begin with."
   ]
  },
  {
   "cell_type": "markdown",
   "metadata": {
    "slideshow": {
     "slide_type": "slide"
    }
   },
   "source": [
    "<center>S = Aggregate distribution</center>\n",
    "<center>N = Frequency distribution</center>\n",
    "<center>X = Severity distribution</center>\n",
    "<br><br>\n",
    "\n",
    "$$CV(S) = \\sqrt{\\frac{\\frac{Var(N)}{E[N]} + CV(X)^2}{E[N]}}$$\n",
    "\n",
    "- This formula results in more risk (i.e. CV) for smaller companies due to smaller expected number of losses in the denominator."
   ]
  },
  {
   "cell_type": "markdown",
   "metadata": {
    "slideshow": {
     "slide_type": "subslide"
    }
   },
   "source": [
    "- If we multiple CV by random factor (i.e. CV(1+J)), the effect is much less pronounced for smaller companies since they are already volatile."
   ]
  },
  {
   "cell_type": "markdown",
   "metadata": {
    "slideshow": {
     "slide_type": "slide"
    }
   },
   "source": [
    "## Estimation Risk\n",
    "- The preferred method for estimating parameters of frequency and severity distributions from historical data is MLE.\n",
    "- To assess estimation risk, we use the covariance matrix that results from the standard MLE procedure, but we assume the parameters follow a join log-normal distribution (works for both large and small datasets)."
   ]
  },
  {
   "cell_type": "markdown",
   "metadata": {
    "slideshow": {
     "slide_type": "slide"
    }
   },
   "source": [
    "## Projection Risk\n",
    "\n",
    "#### Simple trend model\n",
    "- Misses uncertainty associated with historical data.\n",
    "    - Historical data is often based on estiamtes of past claims which have not yet settled.\n",
    "- The projection uncertainty is combination of the uncertainty in each historical point and the uncertainty is the fitted trend line.\n"
   ]
  },
  {
   "cell_type": "markdown",
   "metadata": {
    "slideshow": {
     "slide_type": "subslide"
    }
   },
   "source": [
    "#### Severity trend and inflation\n",
    "- Claim severity trend in insurance is generally greater than the general inflation. This excess trend is referred to as <b>social inflation</b> or <b>superimposed inflation</b>.\n",
    "- We can project excess / superimposed inflation separately by calculating residuals.\n",
    "<br><br><br>\n",
    "<b><I>Advantage of projecting superimposed and general inflation separately</I></b>\n",
    "- It reflects the dependency between claim severity trend and general inflation.\n",
    "- Since ERMs include projections of future inflation rates, the inflation uncertainty is incorporated into projection risk (of severity)."
   ]
  },
  {
   "cell_type": "markdown",
   "metadata": {
    "slideshow": {
     "slide_type": "subslide"
    }
   },
   "source": [
    "#### Trend as time series\n",
    "- Simple trend models only assume the existence of single underlying trend rate.\n",
    "- The AR-1 model is mean-reverting time series. The true mean is unknown and estimated from the data. The AR-1 model also includes an autocorrelation coefficient and an annual disturbance distribution.\n",
    "- The AR-1 model produces wider intervals than simple trend model due to additional uncertainty of the AR-1 process.\n",
    "    - For long-tail lines, simple trend model understates projection risk."
   ]
  },
  {
   "cell_type": "markdown",
   "metadata": {
    "slideshow": {
     "slide_type": "slide"
    }
   },
   "source": [
    "## Model Risk\n",
    "\n",
    "- AIC/BIC/HQIC can be used to construct well-fitting models with low complexity.\n",
    "    - Helps <I>guide</I> model selection, but the selected distribution may still be wrong.\n",
    "    \n",
    "- We can use the simulation by sampling parameters from better-fitting distributions (assign prob to each distrib).\n",
    "    - Simulate loss scenario using log-normal distribution of parameters for the selected distribution."
   ]
  },
  {
   "cell_type": "markdown",
   "metadata": {
    "slideshow": {
     "slide_type": "slide"
    }
   },
   "source": [
    "## Projection Models\n",
    "\n",
    "- Too much parsimony can produce unrealistically stable results. Some model complexity is required to ensure that the model is capturing the true uncertainty of the underlying process."
   ]
  },
  {
   "cell_type": "markdown",
   "metadata": {
    "slideshow": {
     "slide_type": "slide"
    }
   },
   "source": [
    "## Copulas\n",
    "\n",
    "- <b>Copula</b> is a function that combines each individual marginal distribution into a multivariate distribution.\n",
    "\n",
    "$$F(x,y) = P(X <x \\text{ and } Y < y) = C(F_X(x),F_Y(y)) = C(u,v)$$\n",
    "<br>\n",
    "<center><img src='images/Copula.JPG'></center>"
   ]
  },
  {
   "cell_type": "markdown",
   "metadata": {
    "slideshow": {
     "slide_type": "subslide"
    }
   },
   "source": [
    "- $C_1(u,v)= \\frac{\\partial {C(u,v)}}{\\partial u} = p$\n",
    "\n",
    "#### Tail Correlation\n",
    "- Frank copula (lowest right-tail correlation) < Normal copula < Gumbel copula < Heavy right-tail copula (highest right-tail correlation)\n",
    "- a.ka. F-N-G-H\n",
    "\n",
    "#### Advantage of normal copula\n",
    "- Easy simulation method.\n",
    "- Generalizes to multi-dimensions.\n"
   ]
  },
  {
   "cell_type": "markdown",
   "metadata": {
    "slideshow": {
     "slide_type": "subslide"
    }
   },
   "source": [
    "#### Tail Concentration Functions\n",
    "- Left-tail concentration function:\n",
    "$$L(z) = \\frac{C(z,z)}{z}$$\n",
    "<br><br>\n",
    "- Right-tail concentration function:\n",
    "$$R(z) = \\frac{1-2z+C(z,z)}{1-z}$$\n"
   ]
  },
  {
   "cell_type": "markdown",
   "metadata": {
    "slideshow": {
     "slide_type": "subslide"
    }
   },
   "source": [
    "- L(0) > or R(1) > 0, then we have strong evidence of tail correlation in the specified tail.\n",
    "    - Need to calculate values as we approach 0 and 1, you might have high correlation JUST BEFORE 0 or 1, but not at 0 and 1."
   ]
  },
  {
   "cell_type": "markdown",
   "metadata": {
    "slideshow": {
     "slide_type": "subslide"
    }
   },
   "source": [
    "#### Multivariate copulas\n",
    "- Normal and t-copula are used to combine more than two random variables.\n",
    "- Normal copula is uncorrelated for very high and small losses.\n",
    "- t-copula has an additional parameter for tail heaviness, it can be strongly correlated in the tails, if desired.\n",
    "- For large n, the t-copula approaches the normal copula."
   ]
  }
 ],
 "metadata": {
  "celltoolbar": "Slideshow",
  "kernelspec": {
   "display_name": "Python 3",
   "language": "python",
   "name": "python3"
  },
  "language_info": {
   "codemirror_mode": {
    "name": "ipython",
    "version": 3
   },
   "file_extension": ".py",
   "mimetype": "text/x-python",
   "name": "python",
   "nbconvert_exporter": "python",
   "pygments_lexer": "ipython3",
   "version": "3.7.1"
  }
 },
 "nbformat": 4,
 "nbformat_minor": 2
}
