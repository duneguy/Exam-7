{
 "cells": [
  {
   "cell_type": "markdown",
   "metadata": {
    "slideshow": {
     "slide_type": "slide"
    }
   },
   "source": [
    "- <b>Premium asset/EBNR premium</b> - The premium that the insurer expects to collect based on the expected ultimate losses, excluding premium already collected.\n",
    "    - Common for retro policies"
   ]
  },
  {
   "cell_type": "markdown",
   "metadata": {
    "slideshow": {
     "slide_type": "slide"
    }
   },
   "source": [
    "## Retro Formula Approach for PDLD Ratios \n",
    "\n",
    "- With this method we use the expected losses and the retrospective rating formula to figure out the expected premium for the insured. \n",
    "<br><br>\n",
    "- Retro formula for calculating premium:\n",
    "\n",
    "$$P_n = (BP + CL_n \\cdot LCF)TM$$\n",
    "\n",
    "- Where, $CL_n$ represents the capped losses at $n^{th}$ retro adjustment.\n",
    "\n"
   ]
  },
  {
   "cell_type": "markdown",
   "metadata": {
    "slideshow": {
     "slide_type": "subslide"
    }
   },
   "source": [
    "## Retro Premium Components\n",
    "\n",
    "- <b>LCF:</b> Primarily covers LAE\n",
    "- <b>TM:</b> Covers state taxes and other state assessments\n",
    "- <b>BP:</b> Company expenses (UW expenses and acq. expenses), insurance charge (max and min) and per-occurence charge\n",
    "<center>Basic Premium (BP) = Expense provision + insurance charge + excess loss charge</center>"
   ]
  },
  {
   "cell_type": "markdown",
   "metadata": {
    "slideshow": {
     "slide_type": "subslide"
    }
   },
   "source": [
    "- First PDLD ratio:\n",
    "\n",
    "$$\\frac{P_1}{L_1} = \\frac{(BP + CL_1 \\cdot LCF)TM}{L_1} = \\frac{BP \\cdot TM}{SP \\cdot ELR \\cdot \\%Loss_1} + \\frac{CL_1}{L_1} \\cdot LCF \\cdot TM$$\n",
    "\n",
    "$$\\Downarrow$$\n",
    "<br>\n",
    "$$\\color{blue}{PDLD_1 = \\frac{BP}{SP} \\cdot \\frac{TM}{ ELR \\cdot \\%Loss_1} + \\frac{CL_1}{L_1} \\cdot LCF \\cdot TM}$$\n",
    "\n",
    "- Subsequent PDLD ratios (they are all incremental):\n",
    "\n",
    "$$\\color{blue}{PDLD_n = \\frac{P_n - P_{n-1}}{L_n - L_{n-1}} = \\frac{CL_n - CL_{n-1}}{L_n - L_{n-1}} \\cdot LCF \\cdot TM}$$\n",
    "\n",
    "- where, $\\frac{CL_n - CL_{n-1}}{L_n - L_{n-1}}$ is known as <b>incremental loss capping ratio</b> and $\\frac{CL_n}{L_n}$ is referred to as <b>cumulative loss capping ratio</b>."
   ]
  },
  {
   "cell_type": "markdown",
   "metadata": {
    "slideshow": {
     "slide_type": "subslide"
    }
   },
   "source": [
    "#### Advantage of using the retro formula to estimate the PDLD ratio\n",
    "\n",
    "- It responds to changes in the retro rating parameters being sold. If retro parameters change significantly over time, more weight should be given to PDLD ratios derived from the formula than those derived from historical data.\n",
    "\n",
    "#### Disadvantage of using the retro formula to estimate the PDLD ratio\n",
    "\n",
    "- Potential bias exists since the formula approach uses the average parameters. We should retrospectively test PDLD ratios against actual emergence to check for bias."
   ]
  },
  {
   "cell_type": "markdown",
   "metadata": {
    "slideshow": {
     "slide_type": "slide"
    }
   },
   "source": [
    "<center><img src='images/PDLD_1.JPG'></center>"
   ]
  },
  {
   "cell_type": "markdown",
   "metadata": {
    "slideshow": {
     "slide_type": "subslide"
    }
   },
   "source": [
    "<center><img src='images/PDLD_2.JPG'></center>"
   ]
  },
  {
   "cell_type": "markdown",
   "metadata": {
    "slideshow": {
     "slide_type": "slide"
    }
   },
   "source": [
    "## Empirical Approach for PDLD Ratio\n",
    "\n",
    "- The first retro premium computation is based on losses developed though 18 months and premium booked through 27 months (due to premium lag of 9 mos.).\n",
    "\n",
    "- First PDLD ratio:\n",
    "$$PDLD_1 = \\frac{Premium_{27}}{Losses_{18}}$$\n",
    "\n",
    "- The second and subsequent PDLD ratios:\n",
    "$$PDLD_2 = \\frac{Premium_{39}-Premium_{27}}{Losses_{30}-Losses_{18}}$$\n",
    "    "
   ]
  },
  {
   "cell_type": "markdown",
   "metadata": {
    "slideshow": {
     "slide_type": "subslide"
    }
   },
   "source": [
    "- Histoical PDLD ratios may fluctuate significantly after the first retro adjustment\n",
    "    - Premium and loss development on a few policies can drive total incremental development on quarterly data.\n",
    "    - Negative PDLD ratios are possible - upward development in losses in high loss layers and downward development in layers within loss limitations.\n",
    "    - If large fluctuations exist, average as many historical points as possible or use the retro formula approach."
   ]
  },
  {
   "cell_type": "markdown",
   "metadata": {
    "slideshow": {
     "slide_type": "slide"
    }
   },
   "source": [
    "<center><img src='images/Empirical_PDLD.JPG'></center>"
   ]
  },
  {
   "cell_type": "markdown",
   "metadata": {
    "slideshow": {
     "slide_type": "slide"
    }
   },
   "source": [
    "- An upwards trend in PDLD ratios may indicate:\n",
    "    - More liberal retro rating parameters being sold, such as a higher maximum, minimum or per-accident limitation.\n",
    "    - Improvement in loss experience, resulting in a larger portion of loss being within the boundaries of the retro maximum and the per accident limitation."
   ]
  },
  {
   "cell_type": "markdown",
   "metadata": {
    "slideshow": {
     "slide_type": "slide"
    }
   },
   "source": [
    "- Historical and Retro Formula PDLD ratios may diverge due to:\n",
    "    - Worse (better) than expected loss experience may have caused a larger portion of the loss to be outside (inside) the boundaries of the retro maximum and the per accident limitation than predicted by formula approach.\n",
    "    - Average retro parameters may be changing over time."
   ]
  },
  {
   "cell_type": "markdown",
   "metadata": {
    "slideshow": {
     "slide_type": "slide"
    }
   },
   "source": [
    "## CPDLD Ratios\n",
    "\n",
    "- Calculated as wtd. average of PDLD ratios and using incremental loss emergence as weights.\n",
    "\n",
    "$$ CPDLD_1 = \\frac{PDLD_1 \\cdot L_1 + PDLD_2 \\cdot (L_2 - L_1)+ \\cdots}{L_1 + L_2 + \\cdots}$$"
   ]
  },
  {
   "cell_type": "markdown",
   "metadata": {
    "slideshow": {
     "slide_type": "slide"
    }
   },
   "source": [
    "<center><img src='images/CPDLD_1.JPG'></center>\n",
    "<center><img src='images/CPDLD_2.JPG'></center>"
   ]
  },
  {
   "cell_type": "markdown",
   "metadata": {
    "slideshow": {
     "slide_type": "slide"
    }
   },
   "source": [
    "## Why not use CL development procedure on historical triangles of collected or billed premium?\n",
    "\n",
    "1. Due to the premium lag, a CL estimate of the premium asset is not available until at least 9 months after the policy expiration, and then it can only be updated annually.\n",
    "2. Using Fitzgibbon's method or PDLD method, an initial estimate of the premium asset can be produced soon after the policy expires, using the known loss information and the relationship between incurred losses and retro premium.\n",
    "3. Additionally, the premium asset estimate can be updated each quarter as new loss data becomes available."
   ]
  },
  {
   "cell_type": "markdown",
   "metadata": {
    "slideshow": {
     "slide_type": "slide"
    }
   },
   "source": [
    "## Fitzgibbon's Reserve Formula\n",
    "<br>\n",
    "<center>Retro Premium = C + B x Losses</center>\n",
    "\n",
    "To apply this formula to the <b>entire</b> book of business they make the following changes:\n",
    "\n",
    "1. Divide by Standard Premium.\n",
    "\n",
    "$$\\frac{\\text{Retro Premium}}{\\text{Standard Premium}} = K + B \\cdot SLR$$\n",
    "\n",
    "2. Then they subtract 1 from both sides.<br>\n",
    "\n",
    "<center><b>Retro Adjustment</b> = A + B x SLR</center><br>\n",
    "where, A = K-1"
   ]
  },
  {
   "cell_type": "markdown",
   "metadata": {
    "slideshow": {
     "slide_type": "subslide"
    }
   },
   "source": [
    "<center><img src='images/Fitzgibbon.JPG'></center>"
   ]
  },
  {
   "cell_type": "markdown",
   "metadata": {
    "slideshow": {
     "slide_type": "subslide"
    }
   },
   "source": [
    "- A and B parameters are based on historical regression on SLRs and Retro adjustments on mature policy years.\n",
    "    - Based on aggregate data.\n",
    "    - Avoids the issue with an agent giving a big discount to write a policy. (Inappropriate to use actual policy parameters in this case)"
   ]
  },
  {
   "cell_type": "markdown",
   "metadata": {
    "slideshow": {
     "slide_type": "subslide"
    }
   },
   "source": [
    "<center><img src='images/Fitzgibbon_Issues.JPG'></center>"
   ]
  },
  {
   "cell_type": "markdown",
   "metadata": {
    "slideshow": {
     "slide_type": "slide"
    }
   },
   "source": [
    "## Teng and Perkins Solution to Fitzgibbon and Berry\n",
    "\n",
    "- They breakdown a single straight line into line segments with decreasing slopes to represent varying responsiveness.\n",
    "- This is done on a single book of business level.\n",
    "<br><br>\n",
    "<center><img src='images/Teng_and_Perkins_Plot.JPG'></center>"
   ]
  },
  {
   "cell_type": "markdown",
   "metadata": {
    "slideshow": {
     "slide_type": "subslide"
    }
   },
   "source": [
    "## General Rules of Teng and Perkins Plot\n",
    "\n",
    "1. As a book of business matures, premium responsiveness on loss-sensitive contracts declines.\n",
    "    - More losses get capped at max aggregate and per-occurence limit.\n",
    "2. At higher loss ratios, premium responsiveness on loss sensitive contracts declines.\n",
    "    - At higher loss ratio more policyholders have reached their max premiums. This means even a small claim will result in no additional premium."
   ]
  },
  {
   "cell_type": "markdown",
   "metadata": {
    "slideshow": {
     "slide_type": "subslide"
    }
   },
   "source": [
    "## Teng and Perkins Assumptions\n",
    "\n",
    "- <b>Assumption 1:</b> The premium responsiveness during subsequent adjustments is independent of the premium responsiveness during the preceding adjustments.\n",
    "    - Slope for the second period is independent of the actual or expected slope of first period.\n",
    "    \n",
    "- <b>Assumption 2:</b> The slope of the line segment depends on the time period, not on the beginning loss ratio or beginning retro premium ratio.\n",
    "    - Start from where the loss ratio of the last period was."
   ]
  },
  {
   "cell_type": "markdown",
   "metadata": {
    "slideshow": {
     "slide_type": "slide"
    }
   },
   "source": [
    "## Feldblum's Enhancement to Teng and Perkins\n",
    "\n",
    "- Adjust the first line segment so it doesn't need to pass through the origin.\n",
    "    - Change y intercept to be the basic premium ratio.\n",
    "<br><br>    \n",
    "<center><img src='images/Feldblum_Enhancement.JPG'></center>"
   ]
  }
 ],
 "metadata": {
  "celltoolbar": "Slideshow",
  "kernelspec": {
   "display_name": "Python 3",
   "language": "python",
   "name": "python3"
  },
  "language_info": {
   "codemirror_mode": {
    "name": "ipython",
    "version": 3
   },
   "file_extension": ".py",
   "mimetype": "text/x-python",
   "name": "python",
   "nbconvert_exporter": "python",
   "pygments_lexer": "ipython3",
   "version": "3.7.1"
  }
 },
 "nbformat": 4,
 "nbformat_minor": 2
}
