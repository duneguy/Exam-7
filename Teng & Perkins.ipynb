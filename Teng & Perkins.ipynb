{
 "cells": [
  {
   "cell_type": "markdown",
   "metadata": {
    "slideshow": {
     "slide_type": "slide"
    }
   },
   "source": [
    "- <b>Premium asset/EBNR premium</b> - The premium that the isurer expects to collect based on the expected ultimate losses, excluding premium already collected.\n",
    "    - Happens with the retro policies"
   ]
  },
  {
   "cell_type": "markdown",
   "metadata": {
    "slideshow": {
     "slide_type": "slide"
    }
   },
   "source": [
    "## Retro Formula Approach for PDLD Ratios \n",
    "\n",
    "- With this method will see how the premium develop in relation to the losses and then use that relationship to develop premiums to ult.\n",
    "<br><br>\n",
    "- Retro formula for calculating premium:\n",
    "\n",
    "$$P_n = (BP + CL_n \\cdot LCF)TM$$\n",
    "\n",
    "- where, $CL_n$ are the capped losses at $n^{th}$ retro adjustment.\n",
    "\n"
   ]
  },
  {
   "cell_type": "markdown",
   "metadata": {
    "slideshow": {
     "slide_type": "subslide"
    }
   },
   "source": [
    "- First PDLD ratio:\n",
    "\n",
    "$$\\frac{P_1}{L_1} = \\frac{(BP + CL_1 \\cdot LCF)TM}{L_1} = \\frac{BP \\cdot TM}{SP \\cdot ELR \\cdot \\%Loss_1} + \\frac{CL_1}{L_1} \\cdot LCF \\cdot TM$$\n",
    "\n",
    "$$\\Downarrow$$\n",
    "<br>\n",
    "<font color = blue>$$PDLD_1 = \\frac{BP}{SP} \\cdot \\frac{TM}{ ELR \\cdot \\%Loss_1} + \\frac{CL_1}{L_1} \\cdot LCF \\cdot TM$$</font>\n",
    "\n",
    "- Subsequent PDLD ratios (they are all incremental):\n",
    "\n",
    "<font color=blue>$$PDLD_n = \\frac{P_n - P_{n-1}}{L_n - L_{n-1}} = \\frac{CL_n - CL_{n-1}}{L_n - L_{n-1}} \\cdot LCF \\cdot TM$$</font>\n",
    "\n",
    "- where, $\\frac{CL_n - CL_{n-1}}{L_n - L_{n-1}}$ is known as <b>incremental loss capping ratio</b> and $\\frac{CL_1}{L_1}$ is referred to as <b>cumulative loss capping ratio</b>."
   ]
  },
  {
   "cell_type": "markdown",
   "metadata": {
    "slideshow": {
     "slide_type": "subslide"
    }
   },
   "source": [
    "#### Advantage of using the retro formula to estimate the PDLD ratio\n",
    "\n",
    "- It responds to changes in the retro rating parameters being sold. If retro parameters change significantly over time, more weight should be given to PDLD ratios derived from the formula than those derived from historical data.\n",
    "\n",
    "#### Disadvantage of using the retro formula to estimate the PDLD ratio\n",
    "\n",
    "- Potential bias exists since the formula approach uses the average parameters. We should retrospectively test PDLD ratios against actual emergence to check for bias."
   ]
  },
  {
   "cell_type": "markdown",
   "metadata": {
    "slideshow": {
     "slide_type": "slide"
    }
   },
   "source": [
    "<center><img src='images/PDLD_1.JPG'></center>"
   ]
  },
  {
   "cell_type": "markdown",
   "metadata": {
    "slideshow": {
     "slide_type": "subslide"
    }
   },
   "source": [
    "<center><img src='images/PDLD_2.JPG'></center>"
   ]
  },
  {
   "cell_type": "markdown",
   "metadata": {
    "slideshow": {
     "slide_type": "slide"
    }
   },
   "source": [
    "## Empirical Approach for PDLD Ratio\n",
    "\n",
    "- The first retro premium computation is based on losses developed though 18 months and premium booked through 27 months (due to premium lag of 9 mos.).\n",
    "\n",
    "- First PDLD ratio:\n",
    "$$PDLD_1 = \\frac{Premium_{27}}{Losses_{18}}$$\n",
    "\n",
    "- The second and subsequent PDLD ratios:\n",
    "$$PDLD_2 = \\frac{Premium_{39}-Premium_{27}}{Losses_{30}-Losses_{18}}$$\n",
    "    "
   ]
  },
  {
   "cell_type": "markdown",
   "metadata": {
    "slideshow": {
     "slide_type": "subslide"
    }
   },
   "source": [
    "- Histoical PDLD ratios may fluctuate significantly after the first retro adjustment\n",
    "    - Premium and loss development on a few policies can drive total incremental development on quarterly data.\n",
    "    - Negative PDLD ratios are possible - upward development in losses in high loss layers and downward development in layers within loss limitations.\n",
    "    - If large fluctuations exist, average as many historical points as possible or use the retro formula approach."
   ]
  },
  {
   "cell_type": "markdown",
   "metadata": {
    "slideshow": {
     "slide_type": "slide"
    }
   },
   "source": [
    "<center><img src='images/Empirical_PDLD.JPG'></center>"
   ]
  },
  {
   "cell_type": "markdown",
   "metadata": {
    "slideshow": {
     "slide_type": "slide"
    }
   },
   "source": [
    "- An upwards trend in PDLD ratios may indicate:\n",
    "    - More liberal retro rating parameters being sold, such as a higher maximum, minimum or per-accident limitation.\n",
    "    - Improvement in loss experience, resulting in a larger portion of loss being within the boundaries of the retro maximum and the per accident limitation."
   ]
  },
  {
   "cell_type": "markdown",
   "metadata": {
    "slideshow": {
     "slide_type": "slide"
    }
   },
   "source": [
    "- Historical and Retro Formula PDLD ratios may diverge due to:\n",
    "    - Worse (better) than expected loss experience may have caused a larger portion of the loss to be outside (inside) the boundaries of the retro maximum and the per accident limitation than predicted by formula approach.\n",
    "    - Average retro parameters may be changing over time."
   ]
  },
  {
   "cell_type": "markdown",
   "metadata": {
    "slideshow": {
     "slide_type": "slide"
    }
   },
   "source": [
    "## CPDLD Ratios\n",
    "\n",
    "- Calculated as wtd. average of PDLD ratios and using incremental loss emergence as weights.\n",
    "\n",
    "$$ CPDLD_1 = \\frac{PDLD_1 \\cdot L_1 + PDLD_2 \\cdot (L_2 - L_1)+ \\cdots}{L_1 + L_2 - L1 + \\cdots} = \\frac{\\frac{P_1}{L_1} \\cdot L_1 + \\frac{P_2 - P_1}{L_2 - L_1} \\cdot (L_2 - L_1) + \\cdots}{L_1 + L_2 - L1 + \\cdots}$$"
   ]
  },
  {
   "cell_type": "markdown",
   "metadata": {
    "slideshow": {
     "slide_type": "slide"
    }
   },
   "source": [
    "<center><img src='images/CPDLD_1.JPG'></center>\n",
    "<center><img src='images/CPDLD_2.JPG'></center>"
   ]
  }
 ],
 "metadata": {
  "celltoolbar": "Slideshow",
  "kernelspec": {
   "display_name": "Python 3",
   "language": "python",
   "name": "python3"
  },
  "language_info": {
   "codemirror_mode": {
    "name": "ipython",
    "version": 3
   },
   "file_extension": ".py",
   "mimetype": "text/x-python",
   "name": "python",
   "nbconvert_exporter": "python",
   "pygments_lexer": "ipython3",
   "version": "3.7.1"
  }
 },
 "nbformat": 4,
 "nbformat_minor": 2
}
