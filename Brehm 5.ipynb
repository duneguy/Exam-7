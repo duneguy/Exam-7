{
 "cells": [
  {
   "cell_type": "markdown",
   "metadata": {
    "slideshow": {
     "slide_type": "slide"
    }
   },
   "source": [
    "## UW Cycles\n",
    "\n",
    "- <b>UW Cycle-</b> Recurring pattern of increases and decreases in insurance prices and profits.\n",
    "<br><br>\n",
    "- Stages of evolution of a LOB:\n",
    "    - Emergence\n",
    "    - Control\n",
    "    - Breakdown\n",
    "    - Reorganization"
   ]
  },
  {
   "cell_type": "markdown",
   "metadata": {
    "slideshow": {
     "slide_type": "slide"
    }
   },
   "source": [
    "## Drivers of UW Cycles\n",
    "\n",
    "1. Institutional factors.\n",
    "2. Competition\n",
    "3. Supply and demand, capacity constraints and shocks\n",
    "4. Economic linkages"
   ]
  },
  {
   "cell_type": "markdown",
   "metadata": {
    "slideshow": {
     "slide_type": "slide"
    }
   },
   "source": [
    "## Modeling UW Cycles\n",
    "\n",
    "- Dependent variable: loss ratio or combined ratio\n",
    "\n",
    "#### Styles of Modeling\n",
    "- <b>Soft approaches</b>\n",
    "    - Scenarios\n",
    "    - Delphi method\n",
    "    - Competitor analysis\n",
    "- <b>Behavioral modeling</b>\n",
    "    - Econometric modeling - components have meaningful interpretations motivated by economic and behavioral theory.\n",
    "        - Most revolve around supply and demand."
   ]
  },
  {
   "cell_type": "markdown",
   "metadata": {
    "slideshow": {
     "slide_type": "subslide"
    }
   },
   "source": [
    "- <b>Technical modeling</b>\n",
    "    - AR time series models\n",
    "    - VARMAX - multiple variables are modeled simultaneously\n",
    "    - General factor model"
   ]
  },
  {
   "cell_type": "markdown",
   "metadata": {
    "slideshow": {
     "slide_type": "subslide"
    }
   },
   "source": [
    "#### Dimensions of modeling\n",
    "\n",
    "- Dimension 1 – data quantiity, variety and complexity: <b>soft > behavioral > technical</b>\n",
    "- Dimension 2 – recognition of human factors: <b>soft > behavioral > technical</b>\n",
    "- Dimension 3 – mathematical formalism and rigor: <b>technical > behavioral > soft</b>"
   ]
  },
  {
   "cell_type": "markdown",
   "metadata": {
    "slideshow": {
     "slide_type": "slide"
    }
   },
   "source": [
    "## Econometric Modeling\n",
    "\n",
    "<table><tr><td><img src='images/Brehm_Supply.JPG'></td><td><img src='images/Brehm_Demand.JPG'></td></tr></table>"
   ]
  },
  {
   "cell_type": "markdown",
   "metadata": {
    "slideshow": {
     "slide_type": "subslide"
    }
   },
   "source": [
    "#### Gron Supply Curve\n",
    "\n",
    "<center><img src='images/Brehm_Gron.JPG'></center>\n",
    "<center><img src='images/Brehm_Gron_1.JPG'></center>"
   ]
  },
  {
   "cell_type": "markdown",
   "metadata": {
    "slideshow": {
     "slide_type": "subslide"
    }
   },
   "source": [
    "#### Flow of Capital\n",
    "\n",
    "<center><img src='images/Brehm_Capital_Flows.JPG'></center>"
   ]
  }
 ],
 "metadata": {
  "celltoolbar": "Slideshow",
  "kernelspec": {
   "display_name": "Python 3",
   "language": "python",
   "name": "python3"
  },
  "language_info": {
   "codemirror_mode": {
    "name": "ipython",
    "version": 3
   },
   "file_extension": ".py",
   "mimetype": "text/x-python",
   "name": "python",
   "nbconvert_exporter": "python",
   "pygments_lexer": "ipython3",
   "version": "3.7.1"
  }
 },
 "nbformat": 4,
 "nbformat_minor": 2
}
