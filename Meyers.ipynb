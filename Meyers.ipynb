{
 "cells": [
  {
   "cell_type": "markdown",
   "metadata": {
    "slideshow": {
     "slide_type": "slide"
    }
   },
   "source": [
    "## Meyers' Methodology For Testing Models\n",
    "\n",
    "- Calculate mean and standard deviation of losses for all the years combined.\n",
    "- Assume losses follow lognormal distribution with the above mean and std.\n",
    "- Calculate the percentile where the actual ultimate losses land.\n",
    "\n",
    "#### Reason For Calculating Percentiles for Each Triangle\n",
    "- Meyers believes that these percentiles should be uniformly distributed.\n",
    "    - If we have a large sample of percentiles, we can test for uniformity."
   ]
  },
  {
   "cell_type": "markdown",
   "metadata": {
    "slideshow": {
     "slide_type": "slide"
    }
   },
   "source": [
    "## Tests For Uniformity Used by Meyers\n",
    "\n",
    "1. Histogram\n",
    "    - Should expect uneven bars since we don't have a big dataset.\n",
    "2. P-P plot combined with K-S test\n",
    "    - Order the data and then plot predicted vs expected percentile.\n",
    "        - Expected percentiles are: $[e_i] = 100 \\cdot [\\frac{1}{n+1},\\frac{2}{n+1}, \\ldots, \\frac{n}{n+1}]$.\n",
    "        - Predicted percentiles on vertical axis and expected on horizontal axis.\n",
    "    - We reject the null hypthesis of uniformity at 5% level of significance if D= max|$p_i - f_i$| > $\\frac{136}{\\sqrt{n}}$"
   ]
  },
  {
   "cell_type": "markdown",
   "metadata": {
    "slideshow": {
     "slide_type": "subslide"
    }
   },
   "source": [
    "Fig 1: a. This is what we want to see if the model is appropriate.\n",
    "<center><img src='images/Meyers_1.JPG'></center>\n",
    "\n",
    "Fig 2: a. There are more predicted values in the tails than expected.<br>\n",
    "&emsp;&emsp;&nbsp;&nbsp;  b. It is S-shaped because predicted percentiles are lower than expected in the left tail and vice versa. \n",
    "<center><img src='images/Meyers_2.JPG'></center>"
   ]
  },
  {
   "cell_type": "markdown",
   "metadata": {
    "slideshow": {
     "slide_type": "subslide"
    }
   },
   "source": [
    "Fig 3: a. There are more predicted values in the middle than expected.<br>\n",
    "&emsp;&emsp;&nbsp;&nbsp;  b. It is inverse S-shaped because predicted percentiles are higher than expected in the left tail and vice versa. \n",
    "<center><img src='images/Meyers_3.JPG'></center>\n",
    "\n",
    "Fig 4: a. Since is predicting very high losses, most of the predicted percentiles are bunched on the lower side.<br>\n",
    "&emsp;&emsp;&nbsp;&nbsp;  b. Predicted percentiles are lower than expected throughout the distribution. \n",
    "<center><img src='images/Meyers_4.JPG'></center>"
   ]
  },
  {
   "cell_type": "markdown",
   "metadata": {
    "slideshow": {
     "slide_type": "slide"
    }
   },
   "source": [
    "## Enhancements to the Mack Model\n",
    "\n",
    "- During his testing, Meyers found that the Mack's model was producing lighter tails. To widen the predictive distribution, he proposed two changes:\n",
    "    1. Allow the level parameter for AY be random instead of $C_{i,k}$\n",
    "    2. Allow for correlation between AYs\n",
    "    \n",
    "- These changes are meant to increase the standard deviation of predicted losses."
   ]
  },
  {
   "cell_type": "markdown",
   "metadata": {
    "slideshow": {
     "slide_type": "slide"
    }
   },
   "source": [
    "## Leveled Chain-Ladder Model (LCL)\n",
    "\n",
    "- $\\mu_{w,d} = \\alpha_w + \\beta_d$ and set $\\beta_{10}$ = 0 to avoid over-parameterization.\n",
    "- $\\tilde{C}_{w,d} \\sim lognormal(\\mu_{w,d},\\sigma_{d})$\n",
    "    - Where, $\\sigma_1 > \\sigma_2 > \\cdots > \\sigma_{10}$\n",
    "        - There are fewer claims that are open and subject to random outcomes."
   ]
  },
  {
   "cell_type": "markdown",
   "metadata": {
    "slideshow": {
     "slide_type": "slide"
    }
   },
   "source": [
    "## Correlated Chain-Ladder Model (CCL)\n",
    "\n",
    "- Same as LCL except it also includes factor to induce correlation between AYs.\n",
    "- $\\mu_{1,d} = \\alpha_1 + \\beta_d$\n",
    "- $\\mu_{w,d} = \\alpha_w + \\beta_d + \\rho \\cdot \\left( log(C_{w-1,d}) - \\mu_{w-1,d} \\right)$ for w >1\n",
    "\n",
    "#### Procedure\n",
    "- We are given $C_{1,10}$\n",
    "- Sample 10k parameter sets for $\\alpha_w,\\beta_d,\\sigma_d$ and $\\rho$\n",
    "- Set $\\mu_{1,10} = \\alpha_1 + \\beta_{10}$\n",
    "- $\\cdots$\n",
    "- Set $\\mu_{10,10} = \\alpha_{10} + \\beta_{10} + \\rho \\cdot \\left( log(C_{9,10}) - \\mu_{9,10} \\right)$. Simulate $\\tilde{C}_{10,10}$ from lognormal distribution with $\\mu_{10,10}$ and $\\sigma_{10}$"
   ]
  },
  {
   "cell_type": "markdown",
   "metadata": {
    "slideshow": {
     "slide_type": "subslide"
    }
   },
   "source": [
    "- For each AY, we can calculate $\\hat{C}_{w,10}$ = mean($\\tilde{C}_{w,10}$) and std($\\hat{C}_{w,10}$) =  std($\\tilde{C}_{w,10}$)\n",
    "\n",
    "#### Conclusion\n",
    "- CCL passed the K-S test for incurred data.\n",
    "- For Paid data, CCL failed the test - The estimates from the model were too high."
   ]
  },
  {
   "cell_type": "markdown",
   "metadata": {
    "slideshow": {
     "slide_type": "slide"
    }
   },
   "source": [
    "## Correlated Incremental Trend Model (CIT)\n",
    "\n",
    "- Since CCL produced losses that were too high, Meyers believed including CY trend parameter might help.\n",
    "- To include CY trend, you need to have incremental losses only.\n",
    "- Meyers used <b>lognormal-normal</b> distribution to model incremental losses since it allows for occasional negative losses along with right-skewed losses.\n",
    "- $\\mu_{w,d} = \\alpha_w + \\beta_d + \\tau \\cdot (w+d-1)$ and set $\\beta_{10}$ = 0\n",
    "- $Q_{w,d} = lognormal(\\mu_{w,d},\\sigma_d)$ where $\\sigma_1 < \\sigma_2 < \\cdots < \\sigma_{10}$\n",
    "    - Less volatile claims get settled sooner."
   ]
  },
  {
   "cell_type": "markdown",
   "metadata": {
    "slideshow": {
     "slide_type": "slide"
    }
   },
   "source": [
    "## Changing Settlement Rate Model (CSR)\n",
    "\n",
    "- $\\mu_{w,d} = \\alpha_w + \\beta_d \\cdot (1 - \\gamma)^{w-1}$\n",
    "    - where $\\beta_{10}$ = 0\n",
    "    - $\\gamma \\sim normal(0,0.025)$\n",
    "- $\\beta_d$ is usually negative. \n",
    "- A negative value of $\\gamma$ will cause $\\beta_d \\cdot (1 - \\gamma)^{w-1}$ to increase with w and thus indicate a slowdown in claim settlement.\n",
    "    - We will be subtracting bigger amounts from alpha, which would give us smaller cumulative losses.\n",
    "    \n",
    "#### Conclusion\n",
    "- Posterior distribution of gamma was positive, which confirmed a speedup in claim settlement"
   ]
  }
 ],
 "metadata": {
  "celltoolbar": "Slideshow",
  "kernelspec": {
   "display_name": "Python 3",
   "language": "python",
   "name": "python3"
  },
  "language_info": {
   "codemirror_mode": {
    "name": "ipython",
    "version": 3
   },
   "file_extension": ".py",
   "mimetype": "text/x-python",
   "name": "python",
   "nbconvert_exporter": "python",
   "pygments_lexer": "ipython3",
   "version": "3.7.1"
  }
 },
 "nbformat": 4,
 "nbformat_minor": 2
}
