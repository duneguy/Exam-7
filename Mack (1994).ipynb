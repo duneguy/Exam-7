{
 "cells": [
  {
   "cell_type": "markdown",
   "metadata": {
    "slideshow": {
     "slide_type": "slide"
    }
   },
   "source": [
    "## Implicit Assumptions of Chain Ladder Method\n",
    "\n",
    "- The information contained in $C_{k}$ is all thats needed to calculate ultimate losses.\n",
    "    - <b>Consequences</b>\n",
    "        - Development factors are uncorrelated, hence, are not impacted by what has happened in the past.\n",
    "        \n",
    "- We assume $E[\\hat{f_k}] = f_k$ given that accident years are independent.\n",
    "    - <b>Consequences</b>\n",
    "        - Can't use CL if there are CY effects.\n",
    "        \n",
    "- $Var(C_{K+1}|C_1,\\ldots,C_K) = C_K * \\alpha_K^2$ where $\\alpha_K^2$ is an unknown proportionality constant."
   ]
  },
  {
   "cell_type": "markdown",
   "metadata": {
    "slideshow": {
     "slide_type": "slide"
    }
   },
   "source": [
    "- The standard deviation of an estimator is known as the standard error (s.e.). Mack shows that s.e.($\\hat{R_i}$) = s.e.($\\hat{C_{ult}}$)\n",
    "\n",
    "<center><img src=\"images/Mack-s.e..jpg\"></center>\n",
    "\n",
    "- where $\\alpha_{I-1}^2$ (a.k.a for the last column) is determined as follows:\n",
    "    - Set $\\alpha_{I-1}^2 = 0$ if claims don't develop further in the last column.\n",
    "    - Extrapolate $\\hat{\\alpha_1},\\hat{\\alpha_2},\\ldots,\\hat{\\alpha_{I-2}}$ by using loglinear regression. To do this, take log of the alphas and plot them. Fit a line to predict log of $\\hat{\\alpha_{I-1}}$. Then, exponentiate and square it to determine $\\hat{\\alpha_{I-1}}^2$.\n",
    "    - Set $\\alpha_{I-1}^2 = min\\left(\\frac{\\alpha_{I-2}^4}{\\alpha_{I-3}^2},min(\\alpha_{I-3}^2,\\alpha_{I-2}^2)\\right)$\n",
    "    "
   ]
  },
  {
   "cell_type": "markdown",
   "metadata": {
    "slideshow": {
     "slide_type": "slide"
    }
   },
   "source": [
    "- Mack assumes a lognormal distribution for the reserves.\n",
    "- Mack sites issues with assuming normal distribution for reserves.\n",
    "    - If data is skewed, normal dist. is a poor approximation.\n",
    "    - The confidence interval can have negative lower limits, even if negative reserve is not possible.\n",
    "    \n",
    "- Formulas for lognormal distribution:\n",
    "<center>$\\hat{R_i} = e^{\\left(\\mu_i + \\frac{\\sigma_i^2}{2}\\right)}$ and $(s.e.(\\hat{R_i}))^2 = e^{\\left(2\\mu_i + \\sigma_i^2\\right)}*(e^{\\sigma_i^2}-1)$</center>\n",
    "\n",
    "- This gives us the following:\n",
    "<center>$\\sigma_i^2 = ln\\left(1 + \\frac{(s.e.(\\hat{R_i}))^2}{\\hat{R_i^2}}\\right)$ and $\\mu_i = ln(\\hat{R_i}) - \\frac{\\sigma_i^2}{2}$</center>\n",
    "\n",
    "(You can remember this by thinking sigma is related to std. error, hence there is an error term in the formula)"
   ]
  },
  {
   "cell_type": "markdown",
   "metadata": {
    "slideshow": {
     "slide_type": "subslide"
    }
   },
   "source": [
    "- We can calculate the reserve amount at 90th percentile using the following ($Z_{.9}$ = 1.28):\n",
    "\n",
    "$$e^{(\\mu_i + 1.28\\sigma_i)} = \\hat{R_i}*e^{\\left(1.28\\sigma_i - \\frac{\\sigma_i^2}{2}\\right)}$$"
   ]
  }
 ],
 "metadata": {
  "celltoolbar": "Slideshow",
  "kernelspec": {
   "display_name": "Python 3",
   "language": "python",
   "name": "python3"
  },
  "language_info": {
   "codemirror_mode": {
    "name": "ipython",
    "version": 3
   },
   "file_extension": ".py",
   "mimetype": "text/x-python",
   "name": "python",
   "nbconvert_exporter": "python",
   "pygments_lexer": "ipython3",
   "version": "3.7.1"
  }
 },
 "nbformat": 4,
 "nbformat_minor": 2
}
