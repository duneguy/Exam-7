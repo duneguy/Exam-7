{
 "cells": [
  {
   "cell_type": "markdown",
   "metadata": {
    "slideshow": {
     "slide_type": "slide"
    }
   },
   "source": [
    "## Expected Loss Emergence\n",
    "\n",
    "- The author uses the cumulative functions of Loglogistic and Weibull curves to determine expected loss emergence at each point in time (x). With these curves the author assume a strictly increasing development in losses.<br><br>\n",
    "\n",
    "<center>x = time (in months) from the \"average\" accident date to the evaluation date</center>\n",
    "\n",
    "- <b>Loglogistic</b>\n",
    "\n",
    "$$G(x|\\omega,\\theta) = \\frac{x^\\omega}{x^\\omega + \\theta^\\omega}$$\n",
    "\n",
    "- <b>Weibull</b>\n",
    "\n",
    "$$G(x|\\omega,\\theta) = 1 - e^{-\\left(\\frac{x}{\\theta}\\right)^\\omega}$$"
   ]
  },
  {
   "cell_type": "markdown",
   "metadata": {
    "slideshow": {
     "slide_type": "slide"
    }
   },
   "source": [
    "### Advantages of using parameterized curves to describe emergence pattern:\n",
    "\n",
    "1. Estimation is simple since we only have to estimate two parameters.\n",
    "2. Does not require data to be in triangle format with equally spaced evaluation dates.\n",
    "3. The development pattern is smoth."
   ]
  },
  {
   "cell_type": "markdown",
   "metadata": {
    "slideshow": {
     "slide_type": "slide"
    }
   },
   "source": [
    "- In general, the Cape Cod method is preferred since it requires fewer paramter estimateions.\n",
    "- The LDF method requires an estimation of a number of parameters (one for each AY ultimate loss, as well as $\\theta$ and $\\omega$), it tends to be overparameterized when few data points exist.\n",
    "\n",
    "<br><br>\n",
    "<b>Important note: </b><font color=blue>Due to the additional information given by the exposure base (as well as fewer parameters), the Cape Cod method has a smaller parameter variance. The process variance can be higher or lower than the LDF method. In general, the Cape Cod method produces a lower total variance than the LDF method.</font>"
   ]
  },
  {
   "cell_type": "markdown",
   "metadata": {},
   "source": []
  }
 ],
 "metadata": {
  "celltoolbar": "Slideshow",
  "kernelspec": {
   "display_name": "Python 3",
   "language": "python",
   "name": "python3"
  },
  "language_info": {
   "codemirror_mode": {
    "name": "ipython",
    "version": 3
   },
   "file_extension": ".py",
   "mimetype": "text/x-python",
   "name": "python",
   "nbconvert_exporter": "python",
   "pygments_lexer": "ipython3",
   "version": "3.7.1"
  }
 },
 "nbformat": 4,
 "nbformat_minor": 2
}
