{
 "cells": [
  {
   "cell_type": "markdown",
   "metadata": {
    "slideshow": {
     "slide_type": "slide"
    }
   },
   "source": [
    "## Expected Loss Emergence\n",
    "\n",
    "- The author uses the cumulative functions of Loglogistic and Weibull curves to determine expected loss emergence at each point in time (x). With these curves the author assume a strictly increasing development in losses.<br><br>\n",
    "\n",
    "<center>x = time (in months) from the \"average\" accident date to the evaluation date</center>\n",
    "\n",
    "- <b>Loglogistic</b>\n",
    "\n",
    "$$G(x|\\omega,\\theta) = \\frac{x^\\omega}{x^\\omega + \\theta^\\omega}$$\n",
    "\n",
    "- <b>Weibull</b>\n",
    "\n",
    "$$G(x|\\omega,\\theta) = 1 - e^{-\\left(\\frac{x}{\\theta}\\right)^\\omega}$$"
   ]
  },
  {
   "cell_type": "markdown",
   "metadata": {
    "slideshow": {
     "slide_type": "subslide"
    }
   },
   "source": [
    "- Omega is always raised to the power, while theta is not.\n",
    "- Loglogistic has a heavier tail than Weibull.\n",
    "    - We can also truncate the tail if we want to use Loglogistic."
   ]
  },
  {
   "cell_type": "markdown",
   "metadata": {
    "slideshow": {
     "slide_type": "slide"
    }
   },
   "source": [
    "### Advantages of using parameterized curves to describe emergence pattern:\n",
    "\n",
    "1. Estimation is simple since we only have to estimate two parameters.\n",
    "2. Does not require data to be in triangle format with equally spaced evaluation dates.\n",
    "3. The development pattern is smooth."
   ]
  },
  {
   "cell_type": "markdown",
   "metadata": {
    "slideshow": {
     "slide_type": "slide"
    }
   },
   "source": [
    "## LDF vs Cape Cod method\n",
    "\n",
    "- In general, the Cape Cod method is preferred since it requires fewer parameter estimations.\n",
    "- The LDF method requires an estimation of a number of parameters (one for each AY ultimate loss, as well as $\\theta$ and $\\omega$), it tends to be overparameterized when few data points exist.\n",
    "\n",
    "<br><br>\n",
    "<b>Important note: </b><font color=blue>Due to the additional information given by the exposure base (as well as fewer parameters), the Cape Cod method has a smaller parameter variance. The process variance can be higher or lower than the LDF method. In general, the Cape Cod method produces a lower total variance than the LDF method.</font>"
   ]
  },
  {
   "cell_type": "markdown",
   "metadata": {
    "slideshow": {
     "slide_type": "slide"
    }
   },
   "source": [
    "## Maximum Likelihood\n",
    "\n",
    "<center> c $\\sim$ over-dispersed poisson distribution with mean $\\mu$</center>\n",
    "<center> loglikelihood (l) = $\\sum_i \\left(c_i*ln(\\mu_i) - \\mu_i\\right)$</center>\n",
    "\n",
    "#### Advantage of maximum loglikelihood function\n",
    "- It works in the presence of negative or zero incremental losses."
   ]
  },
  {
   "cell_type": "markdown",
   "metadata": {
    "slideshow": {
     "slide_type": "slide"
    }
   },
   "source": [
    "## Reserve variance\n",
    "\n",
    "<center> Process Variance of R = $\\sigma^2 * \\sum (\\mu_{AY;x,y})$\n",
    "    \n",
    "where $\\sigma^2$ is the scaler for the ODP distribution,\n",
    "<center> $\\sigma^2 = \\frac{Variance}{Mean} \\approx \\frac{1}{n-p}\\sum_{AY,t}^n \\frac{(c_{AY,t} - \\mu_{AY,t})^2}{\\mu_{AY,t}}$</center>"
   ]
  },
  {
   "cell_type": "markdown",
   "metadata": {
    "slideshow": {
     "slide_type": "slide"
    }
   },
   "source": [
    "## Assumptions of Clark's Model\n",
    "\n",
    "1. Incremental losses are independent and identically distributed. (we are assuming these incremental losses are following an ODP distribution)\n",
    "2. The $\\frac{Variance}{Mean}$ scale parameter, $\\sigma^2$, is fixed and known.\n",
    "3. Variance estimates are based on an approximation to the Rao-Cramer lower bound."
   ]
  },
  {
   "cell_type": "markdown",
   "metadata": {
    "slideshow": {
     "slide_type": "slide"
    }
   },
   "source": [
    "## Variance of Loss Reserves\n",
    "\n",
    "<center>Process Variance = $\\sigma^2$ * Reserves</center>\n",
    "<center>Total Variance = Process Variance + Parameter Variance</center>\n",
    "\n",
    "- In general, parameter variance is larger than the process variance. This is because most of the uncertainty is due to the inability to estimate the expected reserve (parameter variance) rather than uncertainty due to random events (process variance)."
   ]
  },
  {
   "cell_type": "markdown",
   "metadata": {
    "slideshow": {
     "slide_type": "slide"
    }
   },
   "source": [
    "Key mechanics of solving Clark's LDF problems on next slide.\n",
    "<center><img src=\"images/Clark-LDF-Prob.JPG\"></center>"
   ]
  },
  {
   "cell_type": "markdown",
   "metadata": {
    "slideshow": {
     "slide_type": "subslide"
    }
   },
   "source": [
    "<center><img src=\"images/Clark-LDF-Sol.JPG\"></center>\n",
    "$Growth_{2014} = \\frac{6^{1.477251}}{6^{1.477251} + 21.4675^{1.477251}}$ = .132<br><br>\n",
    "$R_{2014} = \\frac{.922 - .132}{.132} * 575$ = 3441.26<br><br>\n",
    "$\\text{Process Std}_{2014} = \\sqrt{\\sigma^2 * 3441.26} = \\sqrt{59.9876*3441.26}$ = 454.349<br><br>\n",
    "\n",
    "Total Process Std. = $\\text{Process Std}_{2014}+\\text{Process Std}_{2013}+\\cdots+\\text{Process Std}_{2010}$"
   ]
  },
  {
   "cell_type": "markdown",
   "metadata": {
    "slideshow": {
     "slide_type": "slide"
    }
   },
   "source": [
    "Key mechanics of solving Clark's CC problems on next slide.\n",
    "<center><img src=\"images/Clark-CC-Prob-1.JPG\"></center>\n",
    "<center><img src=\"images/Clark-CC-Prob-2.JPG\"></center>"
   ]
  },
  {
   "cell_type": "markdown",
   "metadata": {
    "slideshow": {
     "slide_type": "subslide"
    }
   },
   "source": [
    "<center><img src=\"images/Clark-CC-Sol.JPG\"></center>\n",
    "$Growth_{2014} = \\frac{6^{1.441024}}{6^{1.441024} + 22.3671^{1.441024}}$ = .131<br><br>\n",
    "$ELR = \\frac{2720+2725+2000+1750+575}{5000*.781+\\cdots+5800*.131} = .698$<br><br>\n",
    "$R_{2014} = 5800*.698*(.913-.131) = 3165.849$<br><br>\n",
    "$\\text{Process Std}_{2014} = \\sqrt{\\sigma^2 * 3165.849} = \\sqrt{50.0730*3165.849}$ = 398.15"
   ]
  },
  {
   "cell_type": "markdown",
   "metadata": {
    "slideshow": {
     "slide_type": "slide"
    }
   },
   "source": [
    "## Residuals\n",
    "\n",
    "Residuals formula: $r_{AY} = \\frac{c_{AY} - \\hat{\\mu}_{AY}}{\\sqrt{\\sigma^2 * \\hat{\\mu}_{AY}}}$ where $c_{AY}$ are the cumulative losses to date for the AY. These residuals are also referred to as <b>scaled/normalized residuals.</b>\n",
    "\n",
    "\n",
    "- We can plot residuals against several things to test model assumptions:\n",
    "    - Increment age (evaluation months) - Tests whether curve is appropriate for the data\n",
    "    - Expected loss in each increment - useful for testing whether $\\sigma^2$ is constant\n",
    "    - Calendar year - to test diagonal effects"
   ]
  },
  {
   "cell_type": "markdown",
   "metadata": {
    "slideshow": {
     "slide_type": "slide"
    }
   },
   "source": [
    "<center><img src=\"images/Clark-Exp_Adj.JPG\"></center>\n",
    "\n"
   ]
  }
 ],
 "metadata": {
  "celltoolbar": "Slideshow",
  "kernelspec": {
   "display_name": "Python 3",
   "language": "python",
   "name": "python3"
  },
  "language_info": {
   "codemirror_mode": {
    "name": "ipython",
    "version": 3
   },
   "file_extension": ".py",
   "mimetype": "text/x-python",
   "name": "python",
   "nbconvert_exporter": "python",
   "pygments_lexer": "ipython3",
   "version": "3.7.1"
  }
 },
 "nbformat": 4,
 "nbformat_minor": 2
}
