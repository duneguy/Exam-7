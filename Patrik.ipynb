{
 "cells": [
  {
   "cell_type": "markdown",
   "metadata": {
    "slideshow": {
     "slide_type": "slide"
    }
   },
   "source": [
    "## Reinsurance Loss Reserving Problems\n",
    "\n",
    "1. Claim report lags to reinsurers are generally longer, especially for casualty excess losses.\n",
    "    - Exacerbated by lengthy reporting pipeline\n",
    "        - Claim is reported to cedant\n",
    "        - Claim filters through cedant's report system to its reinsurance department\n",
    "        - Claim travels through an intermediary before getting to reinsurer\n",
    "        - Claim appears in reinsurer's claim system\n",
    "    - Claim adjusters tend to reserve at modal value. Takes longer for the claim to breach the reinsurance threshold.\n",
    "    - Mass tort claims (i.e. asbestosis- related injuries) may have extreme delays in discovery or in reporting to the cedant."
   ]
  },
  {
   "cell_type": "markdown",
   "metadata": {
    "slideshow": {
     "slide_type": "subslide"
    }
   },
   "source": [
    "2. There is a persistent upward development of most claim reserves\n",
    "    - Economic and social inflation\n",
    "    - Tendency of claims adjusters to reserve at modal values\n",
    "    - Tendency to under-reserve ALAE\n",
    "<br><br>\n",
    "3. Claims reporting patterns differ greatly by reinsurance line, by type of contract, by specific terms, by cedant and possibly by intermediary\n",
    "    - Exposures assumed by reinsurers tend to be heterogeneous\n",
    "        - Can't use traditional reserving methods that rely on homogeneous data.\n",
    "    - Even with large homogeneous data, low frequency and lengthy report lags may cause extreme fluctuations in historical loss data."
   ]
  },
  {
   "cell_type": "markdown",
   "metadata": {
    "slideshow": {
     "slide_type": "subslide"
    }
   },
   "source": [
    "4. $\\text{Because of the heterogeneity of data, industry statistics are not very useful}$\n",
    "    - Schedule P does not breakdown reinsurance exposures into homogeneous groups.\n",
    "    - Most reinsurers' loss reserves are aggregated into excess casualty LOB.\n",
    "    - ISO loss development statistics are not usable without significant adjustments to the data. These adjustments may increase the indicated growth.\n",
    "        - reinsurers have higher report lags than primary companies.\n",
    "        - For xs coverage, lag in reserving or reporting claims grows with the attachment point.<br><br>\n",
    "        \n",
    "5. $\\text{The reports the reinsurers receive may be lacking important information}$\n",
    "    - Most proportional covers require only summary claims information.\n",
    "    - Even when there is individual claim reporting, information tends to be insufficient.\n",
    "    - Desirable to have professional reinsurance claims staff to advise cedant's staff and possibly reduce ultimate payments."
   ]
  },
  {
   "cell_type": "markdown",
   "metadata": {
    "slideshow": {
     "slide_type": "subslide"
    }
   },
   "source": [
    "6. Because of the heterogeneity in coverage and reporting requirements, reinsurers often have coding and IT systems problems\n",
    "    - Business grows faster than the ability of reinsurers' data systems to keep up.<br><br>\n",
    "\n",
    "7. $\\text{The size of an adequate loss reserve compared to surplus is greater for a reinsurer}$\n",
    "    - Managers questions the loss liabilities estimated by the actuary."
   ]
  },
  {
   "cell_type": "markdown",
   "metadata": {
    "slideshow": {
     "slide_type": "slide"
    }
   },
   "source": [
    "## Components of a Reinsurer's Loss Reserve\n",
    "\n",
    "1. Case reserves reported by the ceding companies.\n",
    "2. Reinsurer additional reserves on individual claims.\n",
    "3. Actuarial estimate of future development of 1 and 2.\n",
    "4. Actuarial estimate of pure IBNR.\n",
    "5. Discount for future investment income.\n",
    "6. Risk load"
   ]
  },
  {
   "cell_type": "markdown",
   "metadata": {
    "slideshow": {
     "slide_type": "slide"
    }
   },
   "source": [
    "## Stanard- B$\\ddot{u}$hlmann (Cape Cod Method)\n",
    "\n",
    "- Unlike BF method, we don't have to rely on judgement to calculate expected claims.\n",
    "\n",
    "### Mechanics\n",
    "1. Calculate SB estimate of ELR\n",
    "    - divide reported losses by used-up premium\n",
    "    - Use Adjusted Risk Pure Premium (expenses have been removed) for used-up premium calcs.\n",
    "2. Multiply SBELR by Adjusted Risk Pure Premium to get expected losses for AY."
   ]
  },
  {
   "cell_type": "markdown",
   "metadata": {
    "slideshow": {
     "slide_type": "slide"
    }
   },
   "source": [
    "## Simple Credibility IBNR Estimate\n",
    "\n",
    "- We use this method when we don't have complete confidence in rate-level premium adjustments.\n",
    "- We basically weight together CL and SB methods using credibility factor.\n",
    "    - It gives more weight to the SB estimate for immature years and CL for mature years.\n",
    "<br><br>\n",
    "<center> Z(k) = credibility factor * % reported</center><br>\n",
    "<center> IBNR(k) = Z(k)* Chain Ladder IBNR(K) + (1 - Z(k)) * SB-IBNR(K)</center>"
   ]
  }
 ],
 "metadata": {
  "celltoolbar": "Slideshow",
  "kernelspec": {
   "display_name": "Python 3",
   "language": "python",
   "name": "python3"
  },
  "language_info": {
   "codemirror_mode": {
    "name": "ipython",
    "version": 3
   },
   "file_extension": ".py",
   "mimetype": "text/x-python",
   "name": "python",
   "nbconvert_exporter": "python",
   "pygments_lexer": "ipython3",
   "version": "3.7.1"
  }
 },
 "nbformat": 4,
 "nbformat_minor": 2
}
