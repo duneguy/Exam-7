{
 "cells": [
  {
   "cell_type": "markdown",
   "metadata": {
    "slideshow": {
     "slide_type": "slide"
    }
   },
   "source": [
    "## The GLM Model\n",
    "\n",
    "\n",
    "\n",
    "\n",
    "\n",
    "\n",
    "\n",
    "\n",
    "\n",
    "\n",
    "\n",
    "\n",
    "\n",
    "\n",
    "\n",
    "\n",
    "\n",
    "\n",
    "\n",
    "\n",
    "\n",
    "\n",
    "\n",
    "\n",
    "\n",
    "\n",
    "\n",
    "\n",
    "\n",
    "\n",
    "\n",
    "\n",
    "\n",
    "\n",
    "\n",
    "\n",
    "\n",
    "\n",
    "\n",
    "\n",
    "\n",
    "\n",
    "\n",
    "\n",
    "\n",
    "\n",
    "\n",
    "\n",
    "\n",
    "\n",
    "\n",
    "\n",
    "\n",
    "\n",
    "\n",
    "\n",
    "\n",
    "\n",
    "\n",
    "\n",
    "\n",
    "\n",
    "\n",
    "\n",
    "\n",
    "\n",
    "\n",
    "\n",
    "\n",
    "\n",
    "\n",
    "\n",
    "\n",
    "\n",
    "\n",
    "\n",
    "\n",
    "\n",
    "\n",
    "\n",
    "\n",
    "\n",
    "\n",
    "\n",
    "\n",
    "\n",
    "\n",
    "\n",
    "- GLM model uses incremental losses and log-link function\n",
    "\n",
    "$$E[q(w,d)] = m_{w,d}$$\n",
    "$$Var(q(w,d)) = \\phi m_{w,d}^z$$\n",
    "\n",
    "where, $m_{w,d} = e^{c + \\alpha_w + \\beta_2 + \\cdots + \\beta_d}$ = $e^{\\alpha_w + \\beta_2 + \\cdots + \\beta_d}$\n",
    "\n",
    "- Alpha adjusts for level and beta adjusts for development trends\n",
    "\n",
    "- In specification with constant (c), $\\alpha_1$ = $\\beta_1$ = 0\n",
    "- In the other specification, $\\alpha_1$ > 0 and $\\beta_1$ = 0 $\\leftarrow$ used in paper"
   ]
  },
  {
   "cell_type": "markdown",
   "metadata": {
    "slideshow": {
     "slide_type": "subslide"
    }
   },
   "source": [
    "- Power of z used to specify the error distribution:\n",
    "    - Normal: z = 0\n",
    "    - ODP: z = 1\n",
    "    - Gamma: z = 2\n",
    "    - Inverse Gaussian: z = 3"
   ]
  },
  {
   "cell_type": "markdown",
   "metadata": {
    "slideshow": {
     "slide_type": "slide"
    }
   },
   "source": [
    "## The ODP Model\n",
    "\n",
    "- An <b>important porperty</b> of the ODP model is that the fitted incremental losses will equal the incremental claims from the standard CL model.\n",
    "\n",
    "#### Three consequences of this property\n",
    "\n",
    "1. Simple link ratio algorithm can be used in place of the more complicated GLM algorithm, while still maintaining the GLM framework.\n",
    "2. Use of age-to-age factors serves as a bridge to the deterministic framework. This allows the model to be more easily explained.\n",
    "3. In general, the log link function does not work for negative incremental claims. Using link ratios remedies this problem."
   ]
  }
 ],
 "metadata": {
  "celltoolbar": "Slideshow",
  "kernelspec": {
   "display_name": "Python 3",
   "language": "python",
   "name": "python3"
  },
  "language_info": {
   "codemirror_mode": {
    "name": "ipython",
    "version": 3
   },
   "file_extension": ".py",
   "mimetype": "text/x-python",
   "name": "python",
   "nbconvert_exporter": "python",
   "pygments_lexer": "ipython3",
   "version": "3.7.1"
  }
 },
 "nbformat": 4,
 "nbformat_minor": 2
}
