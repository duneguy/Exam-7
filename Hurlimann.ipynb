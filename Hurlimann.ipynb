{
 "cells": [
  {
   "cell_type": "markdown",
   "metadata": {
    "slideshow": {
     "slide_type": "slide"
    }
   },
   "source": [
    "## Hurlimann's Method\n",
    "\n",
    "<b> Main Purpose </b> - provides an optimal credibility weight for combining the chain-ladder(individual LR) and BF(collective LR) methods. \n"
   ]
  },
  {
   "cell_type": "markdown",
   "metadata": {
    "slideshow": {
     "slide_type": "slide"
    }
   },
   "source": [
    "## Mechanics of Hurlimann's method\n",
    "\n",
    "1. Calculate incremental loss ratios ($m_1,m_2,...$)\n",
    "\n",
    "| i|$V_i$ = Premium| 1 | 2 | 3|\n",
    "|--|---------------|---|---|--|\n",
    "|1 |      15       | 10| 4 | 2|  \n",
    "|2 |      20       | 6 | 5 |  |\n",
    "|3 |      22       | 8 |   |  |\n",
    "               \n",
    "<br>$$m_1 = \\frac{10+6+8}{15+20+22} = .421$$ \n",
    "<br>\n",
    "$$m_2 = \\frac{4+5}{15+20} = .257$$\n",
    "<br>\n",
    "$$m_3 = \\frac{2}{15} = .133$$"
   ]
  },
  {
   "cell_type": "markdown",
   "metadata": {
    "slideshow": {
     "slide_type": "subslide"
    }
   },
   "source": [
    "2. Calculate the loss ratio payout factors ($p_1,p_2,....$).\n",
    "<br>\n",
    "    - $p_1$ in this case is associated with the first row, since that is already at ultimate (in this problem), we get $p_1$ = 1.\n",
    "\n",
    "$$p_1 = \\frac{m_1+m_2+m_3}{m_1+m_2+m_3} = \\frac{.421+.257+.133}{.421+.257+.133} = 1.000$$<br>\n",
    "$$p_2 = \\frac{m_1+m_2}{m_1+m_2+m_3} = \\frac{.421+.257}{.421+.257+.133} = .836$$<br>\n",
    "$$p_3 = \\frac{m_1}{m_1+m_2+m_3} = \\frac{.421}{.421+.257+.133} = .519$$\n",
    "\n",
    "3. Calculate $q_i = 1 - p_i$"
   ]
  },
  {
   "cell_type": "markdown",
   "metadata": {
    "slideshow": {
     "slide_type": "subslide"
    }
   },
   "source": [
    "4. Calculate $R^{ind}$ and $R^{coll}$\n",
    "\n",
    "$$R^{ind} = \\frac{q_i}{p_i}*C_i = \\frac{\\text{Expected unpaid}}{\\text{Expected paid}}*\\text{Cum. paid losses to date}$$\n",
    "\n",
    "<br>\n",
    "\n",
    "$$R_i^{coll} = q_i*U_i^0 = q_i * (m_i+m_{i+1}+..)*V_i  = \\text{expected unpaid * a priori expected ult. losses for AY}$$\n"
   ]
  },
  {
   "cell_type": "markdown",
   "metadata": {
    "slideshow": {
     "slide_type": "slide"
    }
   },
   "source": [
    "## Calculating MSE using Hurlimann's method\n",
    "\n",
    "1. Calculate incremental loss ratios ($m_1,m_2,...$)\n",
    "2. Calculate the loss ratio payout factors ($p_1,p_2,....$).\n",
    "3. Calculate $q_i = 1 - p_i$\n",
    "4. Calculate $t_i^*$ where $t_i^* = \\sqrt{p_i}$ (Note, this is the special case when $f_i = 1$)\n",
    "5. Calculate $R_i^*$, $R_i^{GB}$ and $R_i^{WN}$ (using the general formula  $R_i^{c} = Z_i * R_i^{ind} + (1 - Z_i)*R_i^{coll}$)\n",
    "\n",
    "$$R_i^{GB} = p_i*R_i^{ind} + q_i * R_i^{coll}\\tag{we are assuming $Z_i = p_i$}$$\n",
    "<br>\n",
    "$$R_i^{WN} = Z_i^{WN}*R_i^{ind} + (1 - Z_i^{WN}) * R_i^{coll}$$\n",
    "<center>$Z_i^{WN}$ here is meant to reflect <b>loss ratio</b> expected to have emerged based on development periods</center>\n",
    "<br><br>\n"
   ]
  },
  {
   "cell_type": "markdown",
   "metadata": {
    "slideshow": {
     "slide_type": "subslide"
    }
   },
   "source": [
    "$$R_i^{*} = Z_i^{*}*R_i^{ind} + (1 - Z_i^{*}) * R_i^{coll}$$<br>\n",
    "$$Z_i^{*} = \\frac{p_i}{p_i +t_i} = \\frac{p_i}{p_i +\\sqrt{p_i}}$$\n",
    "\n",
    "6. Calculate MSE using the following equation:\n",
    "\n",
    "$$MSE = E(\\alpha_i^2(U_i)) * \\begin{pmatrix}\\frac{Z_i^2}{p_i} + \\frac{1}{q_i} + \\frac{(1 - Z_i)^2}{t_i}\\end{pmatrix}*q_i^2$$\n",
    "\n",
    "Note, most problems want you to calculate relative MSE, which is meant to be relative to the optimal reserves."
   ]
  },
  {
   "cell_type": "markdown",
   "metadata": {
    "slideshow": {
     "slide_type": "slide"
    }
   },
   "source": [
    "## Using Hurlimann's method to calculate optimal Cape Cod and BF reserves\n",
    "\n",
    "- The method requires you to calculate chain ladder factors.\n",
    "    - $p_1^{CL}$ = 1\n",
    "    - $p_i^{CL} = \\frac{1}{F_k^{CL}}$, where $F_k^{CL}$ is the age-to-ult. chain ladder factor.\n",
    "\n",
    "- Then we must calculate credibility factor (Z) using the $p_i$ values calculated above.\n",
    "- For optimal Cape Cod method\n",
    "    - Calculate the LR using the losses and used premium\n",
    "    - Then use the LR to calculate collective LR reservers.\n",
    "    - Everything else is still same.\n",
    "   "
   ]
  },
  {
   "cell_type": "markdown",
   "metadata": {
    "slideshow": {
     "slide_type": "subslide"
    }
   },
   "source": [
    "- For optimal BF method\n",
    "    - Use the LR provided\n",
    "    - Then use the LR to calculate collective LR reservers.\n",
    "    - Everything else is still same."
   ]
  },
  {
   "cell_type": "markdown",
   "metadata": {
    "slideshow": {
     "slide_type": "slide"
    }
   },
   "source": [
    "- The optimal cerdibility weights $Z_i^*$ which minimize the MSE are given by:\n",
    "<br><br>\n",
    "$$Z_i^* = \\frac{p_i}{p_i + t_i}$$\n",
    "\n",
    "where $t_i = \\frac{E(\\alpha_i^2(U_i))}{Var(U_i^{BC}) + Var(U_i) - E(\\alpha_i^2(U_i))}$\n",
    "\n",
    "- To get the weights that minimize MSE we use the following:\n",
    "$$t_i^* = \\frac{f_i - 1 + \\sqrt{(f_i + 1)*(f_i - 1 + 2*p_i)}}{2}$$\n",
    "\n",
    "This simplifies to $t_i^* = \\sqrt{p_i}$ when $f_i$ = 1.\n",
    "\n",
    "- $f_i$ = 1 also implies that $Var(U_i^{BC}) = Var(U_i)$"
   ]
  }
 ],
 "metadata": {
  "celltoolbar": "Slideshow",
  "kernelspec": {
   "display_name": "Python 3",
   "language": "python",
   "name": "python3"
  },
  "language_info": {
   "codemirror_mode": {
    "name": "ipython",
    "version": 3
   },
   "file_extension": ".py",
   "mimetype": "text/x-python",
   "name": "python",
   "nbconvert_exporter": "python",
   "pygments_lexer": "ipython3",
   "version": "3.7.1"
  }
 },
 "nbformat": 4,
 "nbformat_minor": 2
}
