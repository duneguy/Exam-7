{
 "cells": [
  {
   "cell_type": "markdown",
   "metadata": {
    "slideshow": {
     "slide_type": "slide"
    }
   },
   "source": [
    "## Basic Setup\n",
    "\n",
    "- We are trying to develop excess losses to ultimate\n",
    "- Could also be used to develop losses in a layer"
   ]
  },
  {
   "cell_type": "markdown",
   "metadata": {
    "slideshow": {
     "slide_type": "slide"
    }
   },
   "source": [
    "## Different Approaches\n",
    "\n",
    "- Loss Ratio Approach\n",
    "- Implied Development Approach\n",
    "- Direct Development Approach\n",
    "    - XS loss development factors are calculated so that XS factors in conjunction with limited development factors balance back to full coverage fators.\n",
    "- Credibility Weighting / BF Approach\n",
    "- Distributional Models"
   ]
  },
  {
   "cell_type": "markdown",
   "metadata": {
    "slideshow": {
     "slide_type": "slide"
    }
   },
   "source": [
    "<center><img src='images/Siewert_LR.JPG'></center>\n",
    "<center><img src='images/Siewert_LR_1.JPG'></center>"
   ]
  },
  {
   "cell_type": "markdown",
   "metadata": {
    "slideshow": {
     "slide_type": "slide"
    }
   },
   "source": [
    "<center><img src='images/Siewert_ID.JPG'></center>"
   ]
  },
  {
   "cell_type": "markdown",
   "metadata": {
    "slideshow": {
     "slide_type": "slide"
    }
   },
   "source": [
    "## Direct Development Approach\n",
    "\n",
    "- $LDF_t = \\frac{U}{U_t} = \\frac{C \\cdot S}{C_t \\cdot S_t}$<br><br>\n",
    "- $LDF_t^L = \\frac{U^L}{U_t^L} = \\frac{U \\cdot R^L}{U_t \\cdot R_t^L} = LDF \\cdot \\Delta R_t^L$ (LDF times development in limited severity ratio)<br><br>\n",
    "- $LDF_t^L = \\color{blue}{\\frac{C \\cdot S \\cdot R^L}{C_t \\cdot S_t \\cdot R_t^L} = \\frac{C \\cdot S^{L}}{C_t \\cdot S_t^{L}}}$<br><br>\n",
    "\n",
    "\n",
    "- Here, $R^L$ is defined as limited severity relativity$\\left(\\frac{\\text{limited severity}}{\\text{unlimited severity}}\\right)$\n"
   ]
  },
  {
   "cell_type": "markdown",
   "metadata": {
    "slideshow": {
     "slide_type": "subslide"
    }
   },
   "source": [
    "- $XSLDF_t = \\frac{U^{XS}}{U_t^{XS}} = \\frac{U \\cdot (1-R^L)}{U_t \\cdot (1-R_t^L)} = LDF\\cdot\\Delta(1-R^L) = LDF \\cdot \\Delta R_t^{XS}$(LDF times development in XS severity ratio) <br><br>\n",
    "\n",
    "- $XSLDF_t = \\frac{U \\cdot (1-R^L)}{U_t \\cdot (1-R_t^L)} = \\frac{U \\cdot (R^{XS})}{U_t \\cdot (R_t^{XS})} = \\color{blue}{\\frac{C \\cdot S \\cdot (1-R^L)}{C_t \\cdot S_t \\cdot (1-R_t^L)} =  \\frac{C \\cdot S^{XS}}{C_t \\cdot S_t^{XS}}}$<br><br>\n",
    "- Hence, 1 - $R^L$ represents excess severity relativity$\\left(\\frac{\\text{excess severity}}{\\text{unlimited severity}}\\right)$"
   ]
  },
  {
   "cell_type": "markdown",
   "metadata": {
    "slideshow": {
     "slide_type": "subslide"
    }
   },
   "source": [
    "- These XS and Limited LDFs are meant to balance out to the total LDFs. See below.\n",
    "\n",
    "$$\\color{blue}{LDF = R_t^L \\cdot LDF_t^L + (1 - R_t^L) \\cdot XSLDF_t}$$<br><br>\n",
    "$$LDF = R_t^L \\cdot \\frac{U \\cdot R^L}{U_t \\cdot R_t^L} + (1 - R_t^L) \\cdot \\frac{U \\cdot (1-R^L)}{U_t \\cdot (1-R_t^L)}$$<br><br>\n",
    "$$LDF = \\frac{U \\cdot R^L + U \\cdot (1-R^L)}{U_t} = \\frac{U}{U_t}$$"
   ]
  },
  {
   "cell_type": "markdown",
   "metadata": {
    "slideshow": {
     "slide_type": "subslide"
    }
   },
   "source": [
    "<center><img src='images/Siewert_DD.JPG'></center>"
   ]
  },
  {
   "cell_type": "markdown",
   "metadata": {
    "slideshow": {
     "slide_type": "slide"
    }
   },
   "source": [
    "## BF Method Formulas\n",
    "<br><br>\n",
    "<center><img src='images/Siewert_BF.JPG'></center>"
   ]
  },
  {
   "cell_type": "markdown",
   "metadata": {
    "slideshow": {
     "slide_type": "slide"
    }
   },
   "source": [
    "## Distributional Models\n",
    "\n",
    "- If the limited severity relativity increases from one period to next, then development of limited losses would be higher than development of unlimited losses.\n",
    "    - To avoid this issue, we use the distributional model.\n",
    "- We develop severity distribution parameters that vary by column.\n",
    "    - We can use these to calculate severity relativities"
   ]
  },
  {
   "cell_type": "markdown",
   "metadata": {
    "slideshow": {
     "slide_type": "slide"
    }
   },
   "source": [
    "## Tail Factor\n",
    "\n",
    "- Siewert mentions that we can use an inverse power curve to get age-to-age tail factors.\n",
    "\n",
    "$$ y = 1 + a \\cdot (t + c)^{-b} = 1 + \\frac{a}{(t + c)^b}$$\n",
    "\n",
    "- The value of t in the formula refers to the column number for development factors (starts at 1)."
   ]
  },
  {
   "cell_type": "markdown",
   "metadata": {
    "slideshow": {
     "slide_type": "slide"
    }
   },
   "source": [
    "## Service Revenue\n",
    "\n",
    "- A factor is multiplied to the deductible losses that have been limited by an aggregate limit.\n",
    "- service revenue asset = Total service revenue - known service revenue recoverables"
   ]
  }
 ],
 "metadata": {
  "celltoolbar": "Slideshow",
  "kernelspec": {
   "display_name": "Python 3",
   "language": "python",
   "name": "python3"
  },
  "language_info": {
   "codemirror_mode": {
    "name": "ipython",
    "version": 3
   },
   "file_extension": ".py",
   "mimetype": "text/x-python",
   "name": "python",
   "nbconvert_exporter": "python",
   "pygments_lexer": "ipython3",
   "version": "3.7.1"
  }
 },
 "nbformat": 4,
 "nbformat_minor": 2
}
