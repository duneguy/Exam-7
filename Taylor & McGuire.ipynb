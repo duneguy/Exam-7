{
 "cells": [
  {
   "cell_type": "markdown",
   "metadata": {
    "slideshow": {
     "slide_type": "slide"
    }
   },
   "source": [
    "<b>Purpose</b>: Authors showcase various stochastic models where the chain-ladder reserve happens to be the maximum likelihood forecast of the true loss reserve.\n",
    "\n",
    "- All of the stochastic models outlined in this paper are generalized linear models (GLMs)."
   ]
  },
  {
   "cell_type": "markdown",
   "metadata": {
    "slideshow": {
     "slide_type": "slide"
    }
   },
   "source": [
    "## Taylor's Cape Cod Method\n",
    "\n",
    "- The authors calculate the ELR differently.\n",
    "- ELR = Weighted expected loss ratio for each individual AY. We use CL method to project losses into future and then use percent development as weights.\n",
    "<center><img src = 'images/Taylor_CC_1.JPG'></center>"
   ]
  },
  {
   "cell_type": "markdown",
   "metadata": {
    "slideshow": {
     "slide_type": "subslide"
    }
   },
   "source": [
    "<center><img src = 'images/Taylor_CC_2.JPG'></center>\n",
    "<center><img src = 'images/Taylor_CC_3.JPG'></center>"
   ]
  }
 ],
 "metadata": {
  "celltoolbar": "Slideshow",
  "kernelspec": {
   "display_name": "Python 3",
   "language": "python",
   "name": "python3"
  },
  "language_info": {
   "codemirror_mode": {
    "name": "ipython",
    "version": 3
   },
   "file_extension": ".py",
   "mimetype": "text/x-python",
   "name": "python",
   "nbconvert_exporter": "python",
   "pygments_lexer": "ipython3",
   "version": "3.7.1"
  }
 },
 "nbformat": 4,
 "nbformat_minor": 2
}
