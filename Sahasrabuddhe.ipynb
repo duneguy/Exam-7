{
 "cells": [
  {
   "cell_type": "markdown",
   "metadata": {
    "slideshow": {
     "slide_type": "slide"
    }
   },
   "source": [
    "- <b>Purpose</b>: Demostrates the relationship between claim development, trend and claim size factors.\n",
    "- Can be used to produce development pattern for any layer by adjusting development pattern for another layer.\n",
    "- The approach allows for cost level adjustments and ensures that assumptions related to claim size models, claims development and trend are internally consistent."
   ]
  },
  {
   "cell_type": "markdown",
   "metadata": {
    "slideshow": {
     "slide_type": "slide"
    }
   },
   "source": [
    "## Mechanics\n",
    "\n",
    "- In this paper, we assume the claim sizes are described by the exponential distribution. We use this model to then calculate limited expected values and unlimited means.\n",
    "<center><img src='images/Sahasrabuddhe_1.JPG'></center>"
   ]
  },
  {
   "cell_type": "markdown",
   "metadata": {
    "slideshow": {
     "slide_type": "subslide"
    }
   },
   "source": [
    "Now, we adjust the raw data to the basic limit at the latest exposure period.\n",
    "<br><br>\n",
    "<center><img src='images/Sahasrabuddhe_2.JPG'></center>"
   ]
  },
  {
   "cell_type": "markdown",
   "metadata": {
    "slideshow": {
     "slide_type": "subslide"
    }
   },
   "source": [
    "\n",
    "<center><img src='images/Sahasrabuddhe_3.JPG'></center>\n"
   ]
  },
  {
   "cell_type": "markdown",
   "metadata": {
    "slideshow": {
     "slide_type": "subslide"
    }
   },
   "source": [
    "We calculate LEV at at the 1M limit (raw data limit).\n",
    "<br><br>\n",
    "<center><img src='images/Sahasrabuddhe_4.JPG'></center>"
   ]
  },
  {
   "cell_type": "markdown",
   "metadata": {
    "slideshow": {
     "slide_type": "subslide"
    }
   },
   "source": [
    "\n",
    "<center><img src='images/Sahasrabuddhe_5.JPG'></center>"
   ]
  },
  {
   "cell_type": "markdown",
   "metadata": {
    "slideshow": {
     "slide_type": "subslide"
    }
   },
   "source": [
    "<center><img src='images/Sahasrabuddhe_6.JPG'></center>\n",
    "\n",
    "- Now, we can use the development factors on the diagonal to project the losses to ultimate. Since we adjusted the age-to-ult losses at basic limit to the desired layer."
   ]
  },
  {
   "cell_type": "markdown",
   "metadata": {
    "slideshow": {
     "slide_type": "slide"
    }
   },
   "source": [
    "- The difference between the standard CL and paper's methodology is driven by the size of the claim size parameters ($\\theta$)\n",
    "    - When the claim size parameter increases, a higher percentage of losses will be capped at the limit.\n",
    "        - This leads to larger difference in the limited expected values between the basic limit and limit of the data in the triangle.\n",
    "        - The limited expected value at later developments grows slower for lower limits as compared to higher limits.\n",
    "            - More losses are starting to hit the limit, hence slows down the increase in losses at the lower limits.\n",
    "- Most of the development in later periods is going to be in the higher layers. So the LEV for those layers should exhibit a bigger growth as compared to lower layers."
   ]
  },
  {
   "cell_type": "markdown",
   "metadata": {
    "slideshow": {
     "slide_type": "slide"
    }
   },
   "source": [
    "- This method is an imporvement over the applying the standard chain ladder method to the raw, unadjusted data because it demonstrates that <b>development factors at different cost levels and different layers are related to each other based on claim size models and trend</b>."
   ]
  },
  {
   "cell_type": "markdown",
   "metadata": {
    "slideshow": {
     "slide_type": "slide"
    }
   },
   "source": [
    "## Practical Issues\n",
    "\n",
    "- Since in practice we don't have all the trends to adjust our claim size parameter, we can calculate the age-to-ult factors using the following equation:\n",
    "\n",
    "$$F_{i,j}^X = F_{n,j}^X \\cdot \\frac{\\frac{LEV(X_{i,n})}{LEV(Y_{i,n})}}{\\frac{LEV(X_{i,j})}{LEV(Y_{i,j})}} = \\frac{\\frac{LEV(X_{i,n})}{LEV(Y_{i,n})}}{R_j(X,Y)}$$\n",
    "\n",
    "- Note, here $F_{n,j}^X$ is age-to-ult factor for the standard CL model since we just assume everything is at the latest cost level."
   ]
  },
  {
   "cell_type": "markdown",
   "metadata": {
    "slideshow": {
     "slide_type": "subslide"
    }
   },
   "source": [
    "<center><img src='images/Sahasrabuddhe_8.JPG'></center>\n",
    "<center><img src='images/Sahasrabuddhe_9.JPG'></center>"
   ]
  },
  {
   "cell_type": "markdown",
   "metadata": {
    "slideshow": {
     "slide_type": "subslide"
    }
   },
   "source": [
    "<center><img src='images/Sahasrabuddhe_10.JPG'></center>\n",
    "\n",
    "- The decay factor is 0 at ultimate. \n",
    "- 1-U is basically development in the upper layer compared to the overall."
   ]
  },
  {
   "cell_type": "markdown",
   "metadata": {
    "slideshow": {
     "slide_type": "slide"
    }
   },
   "source": [
    "X here is a layer with lower limit, while Y is a layer with higher limit.\n",
    "<br><br>\n",
    "<center><img src='images/Sahasrabuddhe_7.JPG'></center>"
   ]
  },
  {
   "cell_type": "markdown",
   "metadata": {
    "slideshow": {
     "slide_type": "slide"
    }
   },
   "source": [
    "## Model Assumptions\n",
    "\n",
    "#### Simple Assumptions\n",
    "1. The procedure requires us to select a basic limit.\n",
    "2. The procedure requires the use of a claim size model.\n",
    "3. The procedure requires that the data triangle be adjusted to a basic limit and common cost level.\n",
    "\n",
    "#### Difficult Assumptions\n",
    "1. The procedure requires claim size models at maturities prior to ultimate.\n",
    "2. The procedure requires a triangle of trend indices."
   ]
  }
 ],
 "metadata": {
  "celltoolbar": "Slideshow",
  "kernelspec": {
   "display_name": "Python 3",
   "language": "python",
   "name": "python3"
  },
  "language_info": {
   "codemirror_mode": {
    "name": "ipython",
    "version": 3
   },
   "file_extension": ".py",
   "mimetype": "text/x-python",
   "name": "python",
   "nbconvert_exporter": "python",
   "pygments_lexer": "ipython3",
   "version": "3.7.1"
  }
 },
 "nbformat": 4,
 "nbformat_minor": 2
}
