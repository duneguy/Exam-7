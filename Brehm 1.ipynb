{
 "cells": [
  {
   "cell_type": "markdown",
   "metadata": {
    "slideshow": {
     "slide_type": "slide"
    }
   },
   "source": [
    "## Main Aspects of ERM Program\n",
    "\n",
    "1. An effective ERM program should be a regular process, not a one-time event.\n",
    "2. Risks should be considered on an enterprise basis. (i.e. not just insurance risk)\n",
    "3. Focus on risks that have significant impact to the value of a firm.\n",
    "4. Risks must be quantified as best as possible. The impact of each risk should be calculated on an overall, portfolio basis and correlations with other risks should be considered.\n",
    "5. Strategies must be implemented to avoid, mitigate or exploit risks.\n",
    "6. Risk management strategies are evaluated for trade-off between risk and return."
   ]
  },
  {
   "cell_type": "markdown",
   "metadata": {
    "slideshow": {
     "slide_type": "slide"
    }
   },
   "source": [
    "## Main Risks Faced By Insurance Companies\n",
    "\n",
    "1. Insurance hazard - Risk assumed by insurer in exchange for a premium.\n",
    "2. Financial/Asset - Risk in insurer's asset portfolio due to volatility in interest rates, foreign exchange rates, equity prices, credit quality and liquidity.\n",
    "3. Operational - Risk associated with the execution of the company's business.\n",
    "4. Strategic - Risk associated with making the wrong or right strategic choices.\n",
    "\n",
    "<br><br>\n",
    "Can remember this as FIOS."
   ]
  },
  {
   "cell_type": "markdown",
   "metadata": {
    "slideshow": {
     "slide_type": "subslide"
    }
   },
   "source": [
    "## Insurance Hazard\n",
    "\n",
    "1. Underwriting - Risk due to non-cat losses from current exposures.\n",
    "2. Accumulation/Cat - Risk due to cat losses from current exposures.\n",
    "3. Reserve deterioration - Risk due to losses from past exposures."
   ]
  },
  {
   "cell_type": "markdown",
   "metadata": {
    "slideshow": {
     "slide_type": "slide"
    }
   },
   "source": [
    "## ERM Process Steps\n",
    "\n",
    "1. Diagnose - Company conducts a risk assessment to determine material risks that exceed a company-defined threshold.\n",
    "2. Analyze - Risks that exceed a company threshold are modeled as best as possible.\n",
    "3. Implement - Implement various activities to manage the risks.\n",
    "4. Monitor - Monitor the actual outcomes of the plans implemented in the previous steps against expectations."
   ]
  },
  {
   "cell_type": "markdown",
   "metadata": {
    "slideshow": {
     "slide_type": "slide"
    }
   },
   "source": [
    "## Characteristics of Good Enterprise Risk Model\n",
    "- The model shows the balance between risk and reward from different strategies.\n",
    "- The model recognizes and reflects its own imperfections. Imperfections include parameter uncertainty, simplistic assumptions and in some cases, poor data quality.\n",
    "- The model reflects the relative importance of various risks to business decisions.\n",
    "- The modelers have a deep knowledge of the fundamentals of those risks.\n",
    "- The model includes mathematical techniques to reflect the relationships among risks.\n",
    "\n",
    "Note, without these characteristics, ERM models might exaggerate or underestimate certain aspects of risk."
   ]
  },
  {
   "cell_type": "markdown",
   "metadata": {
    "slideshow": {
     "slide_type": "slide"
    }
   },
   "source": [
    "## ERM Modeling\n",
    "\n",
    "- We can't really quantify Operational nor Strategic risk.\n",
    "- Quantifiable elements of ERM:\n",
    "    - Underwriting risk\n",
    "    - Reserving risk\n",
    "    - Asset risk\n",
    "    - Dependencies/correlations"
   ]
  },
  {
   "cell_type": "markdown",
   "metadata": {
    "slideshow": {
     "slide_type": "slide"
    }
   },
   "source": [
    "## Underwriting Risk (LPPC)\n",
    "\n",
    "1. <b>Loss frequency and loss severity distributions</b>\n",
    "2. <b>Pricing risk</b>\n",
    "    - UW cycle has big impact on pricing risk and needs to be modeled over multiple periods.\n",
    "3. <b>Parameter risk</b>\n",
    "    1. Estimation risk\n",
    "    2. Projection risk\n",
    "    3. Event risk\n",
    "    4. Systematic risk\n",
    "4. <b>Cat modeling uncertainty</b>\n",
    "    - CAT exposure generally incorporated through proprietary CAT models."
   ]
  },
  {
   "cell_type": "markdown",
   "metadata": {
    "slideshow": {
     "slide_type": "subslide"
    }
   },
   "source": [
    "## Parameter Risk (SEEP)\n",
    "\n",
    "#### Estimation Risk\n",
    "- Misestimation of model paramters due to imperfect data.\n",
    "\n",
    "#### Projection Risk\n",
    "- Changes over time and the uncertainty in the projection of these changes.\n",
    "\n",
    "#### Event Risk\n",
    "- Situations when there is a causal link between a large unpredicted event (outside of the company's control) and losses to the insurer.\n",
    "\n"
   ]
  },
  {
   "cell_type": "markdown",
   "metadata": {
    "slideshow": {
     "slide_type": "subslide"
    }
   },
   "source": [
    "#### Systematic Risk\n",
    "- Risks that operate simultaneously on a large number of individual policies. Thus, they are non diversifying and do not improve with added volume."
   ]
  },
  {
   "cell_type": "markdown",
   "metadata": {
    "slideshow": {
     "slide_type": "slide"
    }
   },
   "source": [
    "## Reserving Risk\n",
    "- Refers to the risk of reserves developing other than as anticipated.\n",
    "\n",
    "## Asset Risk\n",
    "- We need to model scenarios that are consistent with historical pattern. More probable patterns should be given more weight.\n",
    "\n",
    "## Dependencies/Correlations\n",
    "- Modeling tail dependency in extreme events is crucial when developing ERM.\n",
    "    - Often modeled usign copulas."
   ]
  },
  {
   "cell_type": "markdown",
   "metadata": {
    "slideshow": {
     "slide_type": "slide"
    }
   },
   "source": [
    "## Common Approaches for Setting Capital Requirements\n",
    "- Holding enough capital so that the probability of default is remote.\n",
    "    - Very conservative and mainly protects the policyholder.\n",
    "- Holding enough capital to maximize the insurer's franchise value. Franchise value include an insurer's balance sheet, customer base, agency relationships, reputation, etc.\n",
    "    - Protects both the policyholder and the shareholder.\n",
    "- Holding enough capital to continue to service renewals (since renewals tend to be more profitable).\n",
    "- Holding enough capital so that the insurer not only survives a major CAT but thrives in it's aftermath.\n",
    "<br><br>\n",
    "Note, ERM model is least reliable at the extremes, so we should focus on more manageable probability levels."
   ]
  }
 ],
 "metadata": {
  "celltoolbar": "Slideshow",
  "kernelspec": {
   "display_name": "Python 3",
   "language": "python",
   "name": "python3"
  },
  "language_info": {
   "codemirror_mode": {
    "name": "ipython",
    "version": 3
   },
   "file_extension": ".py",
   "mimetype": "text/x-python",
   "name": "python",
   "nbconvert_exporter": "python",
   "pygments_lexer": "ipython3",
   "version": "3.7.1"
  }
 },
 "nbformat": 4,
 "nbformat_minor": 2
}
