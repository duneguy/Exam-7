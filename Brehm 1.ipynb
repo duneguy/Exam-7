{
 "cells": [
  {
   "cell_type": "markdown",
   "metadata": {
    "slideshow": {
     "slide_type": "slide"
    }
   },
   "source": [
    "## Main Aspects of ERM Program\n",
    "\n",
    "1. An effective ERM program should be a regular process, not a one-time event.\n",
    "2. Risks should be considered on an enterprise basis. (i.e. not just insurance risk)\n",
    "3. Focus on risks that have significant impact to the value of a firm.\n",
    "4. Risks must be quantified as best as possible. The impact of each risk should be calculated on an overall, portfolio basis and correlations with other risks should be considered.\n",
    "5. Strategies must be implemented to avoid, mitigate or exploit risks.\n",
    "6. Risk management strategies are evaluated for trade-off between risk and return."
   ]
  },
  {
   "cell_type": "markdown",
   "metadata": {
    "slideshow": {
     "slide_type": "slide"
    }
   },
   "source": [
    "## Main Risks Faced By Insurance Companies\n",
    "\n",
    "1. Insurance hazard - Risk assumed by insurer in exchange for a premium.\n",
    "2. Financial/Asset - Risk in insurer's asset portfolio due to volatility in interest rates, foreign exchange rates, equity prices, credit quality and liquidity.\n",
    "3. Operational - Risk associated with the execution of the company's business.\n",
    "4. Strategic - Risk associated with making the wrong or right strategic choices.\n",
    "\n",
    "<br>\n",
    "Can remember this as FIOS."
   ]
  },
  {
   "cell_type": "markdown",
   "metadata": {
    "slideshow": {
     "slide_type": "subslide"
    }
   },
   "source": [
    "## Insurance Hazard\n",
    "\n",
    "1. Underwriting - Risk due to non-cat losses from current exposures.\n",
    "2. Accumulation/Cat - Risk due to cat losses from current exposures.\n",
    "3. Reserve deterioration - Risk due to losses from past exposures."
   ]
  },
  {
   "cell_type": "markdown",
   "metadata": {
    "slideshow": {
     "slide_type": "slide"
    }
   },
   "source": [
    "## ERM Process Steps\n",
    "\n",
    "1. Diagnose - Company conducts a risk assessment to determine material risks that exceed a company-defined threshold.\n",
    "2. Analyze - Risks that exceed a company threshold are modeled as best as possible.\n",
    "3. Implement - Implement various activities to manage the risks.\n",
    "4. Monitor - Monitor the actual outcomes of the plans implmented in the previous steps against expectations."
   ]
  }
 ],
 "metadata": {
  "celltoolbar": "Slideshow",
  "kernelspec": {
   "display_name": "Python 3",
   "language": "python",
   "name": "python3"
  },
  "language_info": {
   "codemirror_mode": {
    "name": "ipython",
    "version": 3
   },
   "file_extension": ".py",
   "mimetype": "text/x-python",
   "name": "python",
   "nbconvert_exporter": "python",
   "pygments_lexer": "ipython3",
   "version": "3.7.1"
  }
 },
 "nbformat": 4,
 "nbformat_minor": 2
}
