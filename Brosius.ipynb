{
 "cells": [
  {
   "cell_type": "markdown",
   "metadata": {
    "slideshow": {
     "slide_type": "slide"
    }
   },
   "source": [
    "## Least Squares Development Method\n",
    "\n",
    "<b>Purpose</b> - This method is useful when <I><b>random</b></I> year-to-year fluctuations in loss experience are significant. \n",
    "\n",
    "- This method is basically regression over the (x,y) pairs of losses.\n",
    "\n",
    "Let, L(x) = a + bx, where a and b are constants based on regression:\n",
    "\n",
    "<font color = blue>$$b = \\frac{\\overline{xy} - \\overline{x}*\\overline{y}}{\\overline{x^2} - \\overline{x}^2}$$<br>\n",
    "$$a = \\overline{y} - b*\\overline{x}$$</font>"
   ]
  },
  {
   "cell_type": "markdown",
   "metadata": {
    "slideshow": {
     "slide_type": "subslide"
    }
   },
   "source": [
    "- Least squares method becomes link ratio method when a = 0.\n",
    "- Least squares method becomes budgeted loss method when b = 0.\n",
    "- When b = 1, then we get the BF method.(i.e. L(x) = a + x)\n",
    "<br><br>\n",
    "<center><img src=\"images/L-S Method Types.jpg\"></center>"
   ]
  },
  {
   "cell_type": "markdown",
   "metadata": {
    "slideshow": {
     "slide_type": "slide"
    }
   },
   "source": [
    "## When is Least Squares Method Appopriate?\n",
    "\n",
    "- If year-to-year changes in loss experience are due to random fluctuation and not due to systematic shifts or distortions in the book of business.\n",
    "    - Systematic distortion can be adjusted in following manner:\n",
    "        - If using incurred losses - Correct for inflation by putting the years on a constant-dollar basis before using regression.\n",
    "        - If business expands - divide each year's losses by an exposure base to eliminate the distortion."
   ]
  },
  {
   "cell_type": "markdown",
   "metadata": {
    "slideshow": {
     "slide_type": "slide"
    }
   },
   "source": [
    "## L-S Parameter Estimation Errors\n",
    "\n",
    "- when a < 0, our estimate of y will be negative for small values of x (in this case, use the link ratio method)<br><br>\n",
    "- when b < 0, our estimate of y will decrease as x increases (in this case, use the budgeted loss method)"
   ]
  },
  {
   "cell_type": "markdown",
   "metadata": {
    "slideshow": {
     "slide_type": "slide"
    }
   },
   "source": [
    "## Linear Approximation (Bayesian Credibility)\n",
    "\n",
    "- Let L be the best linear approximation to the pure Bayesian estimate (Q).\n",
    "- If L(x) = a + bx, we must minimize $E_X[(Q(X) - a -b*X)]^2$\n",
    "\n",
    "### Development formula 1\n",
    "<br>\n",
    "$$L(x) = (x - E[X])\\frac{Cov(X, Y)}{Var(X)} + E[Y]$$\n",
    "$$\\downarrow$$\n",
    "$$L(x) = (x - \\overline{X})*\\frac{\\overline{XY} - \\overline{X}*\\overline{Y})}{\\overline{X^2} - \\overline{X}^2} + \\overline{Y}$$\n",
    "<br>\n",
    "- If Cov(X, Y) < Var(X), a large reported amount should lead to a decrease in reserve (budgeted loss method)<br>\n",
    "- If Cov(X, Y) = Var(X), a large reported amount should not affect the reserve (BF method)<br>\n",
    "- If Cov(X, Y) > Var(X), a large reported amount should lead to an increase in reserve (link ratio method)"
   ]
  },
  {
   "cell_type": "markdown",
   "metadata": {
    "slideshow": {
     "slide_type": "subslide"
    }
   },
   "source": [
    "- You can get the above results by calculating L(x) - x.\n",
    "\n",
    "### Development formula 2\n",
    "\n",
    "<center>$E_Y[Var(X|Y)]$ = EVPV = variability due to loss reporting process</center>\n",
    "<center>$Var_Y(E[X|Y])$ = VHM  = variability due to loss occurence process</center>\n",
    "\n",
    "- In order to get a cred. weighting system, we assume [X|Y = y] = dy where d is a real number not equal to 0.\n",
    "\n",
    "$$L(x) = Z*\\frac{x}{d} + (1 - Z)* E[Y]$$<br>\n",
    "$$Z = \\frac{VHM}{VHM + EVPV} = bd = \\frac{b}{c}$$\n",
    "\n",
    "<center>(Here c is the chain-ladder age-to-ult. factor)</center>\n",
    "\n",
    "- If the loss and loss reporting distributions are too large to be corrected for (there was a change in loss payout, tort reform, etc.), then you use the EVPV and VHM formula."
   ]
  },
  {
   "cell_type": "markdown",
   "metadata": {
    "slideshow": {
     "slide_type": "subslide"
    }
   },
   "source": [
    "- Development formula 2 assumes that the expected number of claims reported is proportional to the number of claims incurred.\n",
    "\n",
    "### Development formula 3\n",
    "\n",
    "- Since reporting of losses is dependent on the caseload, we modify the equation to be E[X|Y = y] = dy + $x_0$<br>\n",
    "    - Therefore, the development ratio (i.e. $\\frac{x}{y}$) is $\\frac{dy + x_0}{y} = d + \\frac{x_0}{y}$ \n",
    "    \n",
    "$$L(x) = Z*\\frac{x - x_0}{d} + (1 - Z)*E[Y]$$<br>\n",
    "$$Z = \\frac{VHM}{VHM + EVPV}$$"
   ]
  }
 ],
 "metadata": {
  "celltoolbar": "Slideshow",
  "kernelspec": {
   "display_name": "Python 3",
   "language": "python",
   "name": "python3"
  },
  "language_info": {
   "codemirror_mode": {
    "name": "ipython",
    "version": 3
   },
   "file_extension": ".py",
   "mimetype": "text/x-python",
   "name": "python",
   "nbconvert_exporter": "python",
   "pygments_lexer": "ipython3",
   "version": "3.7.1"
  }
 },
 "nbformat": 4,
 "nbformat_minor": 2
}
