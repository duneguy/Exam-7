{
 "cells": [
  {
   "cell_type": "markdown",
   "metadata": {
    "slideshow": {
     "slide_type": "slide"
    }
   },
   "source": [
    "# Bornheutter/Ferguson Method\n",
    "\n",
    "- You are relying on expected value for the reserve portion of the ultimate losses.\n",
    "\n",
    "$$U_0\\text{ = Prior Expected Ultimate}$$\n",
    "\n",
    "$$\\color{blue}{U_{p_k}^{BF} = C_{p_k} + q_k* U_0}\\tag*{( $\\text{i.e. }q_k* U_0 = R_{p_k}^{BF}$)}$$"
   ]
  },
  {
   "cell_type": "markdown",
   "metadata": {
    "slideshow": {
     "slide_type": "slide"
    }
   },
   "source": [
    "# Gunnar Benktander/ Esa Hovinen Method\n",
    "\n",
    "- Benktander method is weighed sum of the <b>Chain Ladder</b> and <b>Bornhuetter Ferguson</b> methods.\n",
    "\n",
    "$$U_0\\text{ = Prior Expected Ultimate}$$\n",
    "$$U_{CL}\\text{ = Chain Ladder Ultimate}$$\n",
    "$$U_{BF}\\text{ = Bornhuetter Ferguson Ultimate}$$\n",
    "$$p_k\\text{ = Percentage of losses paid at time k}$$\n",
    "<br>\n",
    "\n",
    "$$\\color{blue}{U_{p_k}^{GB} = p_k*U_{CL} + (1 - p_k)* U_{BF}}$$\n",
    "<center>(give more weight to the actual as time progresses)</center>\n",
    "\n",
    "$$U_{p_k}^{GB} = C_{p_k} + (1 - p_k)* U_{BF}$$\n",
    "$$\\color{blue}{U_{p_k}^{GB} = C_{p_k} + q_k* U_{BF}}  \\tag*{( $\\text{i.e. }q_k* U_{BF} = R_{p_k}^{GB}$)}$$\n",
    "$$ \\big\\Updownarrow$$\n",
    "$$U_{p_k}^{GB} = (1 - q_k^2) * U_{p_k}^{CL} + q_k^2* U_0$$ \n"
   ]
  },
  {
   "cell_type": "markdown",
   "metadata": {
    "slideshow": {
     "slide_type": "subslide"
    }
   },
   "source": [
    "- This is the second iteration of weighting CL and a-priori estimate. This has the effect of reducing the weight of a priori expected losses ($U_0$)\n",
    "- Esa Hovinen states that we can also apply credibility to reserves directly.\n",
    "<br><br>\n",
    "$$R_{EH} = R_{GB} = p_k * R_{CL} + (1-p_k) * R_{BF}$$\n",
    "<br><br>\n",
    "$$\\text{if } p_k = 0 \\text{, then we have BF reserves}$$\n",
    "$$\\text{if } p_k = 1 \\text{, then we have CL reserves}$$"
   ]
  },
  {
   "cell_type": "markdown",
   "metadata": {
    "slideshow": {
     "slide_type": "slide"
    }
   },
   "source": [
    "- Mack lists equations for iterative crediblity-weighted ultimate losses and reserves:\n",
    "\n",
    "$$ U^{(m)} = (1 - q_k^m) * U_{CL} + q_k^m * U_0$$\n",
    "$$ R^{(m)} = (1 - q_k^m) * R_{CL} + q_k^m * R_{BF}$$"
   ]
  },
  {
   "cell_type": "markdown",
   "metadata": {
    "slideshow": {
     "slide_type": "slide"
    }
   },
   "source": [
    "## Four reasons why GB is superior to BF and CL:\n",
    "1. Lower mean squared error (MSE)\n",
    "\n",
    "   1. MSE($R_{GB}$) < MSE($R_{BF}$) when $c^* > \\frac{p_k}{2}$ (we have been using $p_k = c$)\n",
    "       1. This implies that $c^*$ is closer to $c = p_k$ than c = 0\n",
    "           1. c = 0 is the BF method.\n",
    "<br><br>       \n",
    "2. Better approximation of the exact Bayesian procedure\n",
    "3. Superior to CL since it gives more weight to the a priori expectation of ultimate losses\n",
    "4. Superior to BF since it gives more weight to the actual loss experience"
   ]
  },
  {
   "cell_type": "markdown",
   "metadata": {
    "slideshow": {
     "slide_type": "slide"
    }
   },
   "source": [
    "$p_k \\text{ = percentage of losses paid at time k}$\n",
    "$$p_k =  \\frac{1}{CDF_k} \\Leftrightarrow CDF_k =  \\frac{1}{p_k}$$\n",
    "\n",
    "Intuitively, we can think of this as $p_k$ ranging from 0 to 1 and our end goal is to get to 1. CDF helps you get to 100% paid losses. Hence the relationship between $p_k$ and $CDF_k$"
   ]
  }
 ],
 "metadata": {
  "celltoolbar": "Slideshow",
  "kernelspec": {
   "display_name": "Python 3",
   "language": "python",
   "name": "python3"
  },
  "language_info": {
   "codemirror_mode": {
    "name": "ipython",
    "version": 3
   },
   "file_extension": ".py",
   "mimetype": "text/x-python",
   "name": "python",
   "nbconvert_exporter": "python",
   "pygments_lexer": "ipython3",
   "version": "3.7.1"
  }
 },
 "nbformat": 4,
 "nbformat_minor": 2
}
