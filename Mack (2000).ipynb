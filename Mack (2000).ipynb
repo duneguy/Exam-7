{
 "cells": [
  {
   "cell_type": "markdown",
   "metadata": {},
   "source": [
    "# Gunnar Bentakender Method\n",
    "\n",
    "- Bentaknder method is weighed sum of the <b>Chain Ladder</b> and <b>Bornhuetter Ferguson</b> methods.\n",
    "\n",
    "$$U_0\\text{ = Prior Expected Ultimate}$$\n",
    "$$U_{CL}\\text{ = Chain Ladder Ultimate}$$\n",
    "$$p_k\\text{ = Percentage of losses paid at time k}$$\n",
    "<br>\n",
    "\n",
    " <font color=blue>$$U_{p_k} = p_k*U_{CL} + (1 - p_k)* U_0$$</font>\n",
    "<center>(give more weight to the actual as time progresses)</center>"
   ]
  }
 ],
 "metadata": {
  "celltoolbar": "Slideshow",
  "kernelspec": {
   "display_name": "Python 3",
   "language": "python",
   "name": "python3"
  },
  "language_info": {
   "codemirror_mode": {
    "name": "ipython",
    "version": 3
   },
   "file_extension": ".py",
   "mimetype": "text/x-python",
   "name": "python",
   "nbconvert_exporter": "python",
   "pygments_lexer": "ipython3",
   "version": "3.7.1"
  }
 },
 "nbformat": 4,
 "nbformat_minor": 2
}
