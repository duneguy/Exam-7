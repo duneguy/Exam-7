{
 "cells": [
  {
   "cell_type": "markdown",
   "metadata": {
    "slideshow": {
     "slide_type": "slide"
    }
   },
   "source": [
    "# Bornheutter/Ferguson Method\n",
    "\n",
    "- You are relying on expected value for the reserve portion of the ultimate losses.\n",
    "\n",
    "$$U_0\\text{ = Prior Expected Ultimate}$$\n",
    "\n",
    "<font color=blue>$$U_{p_k}^{BF} = C_{p_k} + q_k* U_0\\tag*{( $\\text{i.e. }q_k* U_0 = R_{p_k}^{BF}$)}$$</font>"
   ]
  },
  {
   "cell_type": "markdown",
   "metadata": {
    "slideshow": {
     "slide_type": "slide"
    }
   },
   "source": [
    "# Gunnar Bentakender/ Esa Hovinen Method\n",
    "\n",
    "- Bentaknder method is weighed sum of the <b>Chain Ladder</b> and <b>Bornhuetter Ferguson</b> methods.\n",
    "\n",
    "$$U_0\\text{ = Prior Expected Ultimate}$$\n",
    "$$U_{CL}\\text{ = Chain Ladder Ultimate}$$\n",
    "$$U_{BF}\\text{ = Bornhuetter Ferguson Ultimate}$$\n",
    "$$p_k\\text{ = Percentage of losses paid at time k}$$\n",
    "<br>\n",
    "\n",
    "<font color=blue>$$U_{p_k}^{GB} = p_k*U_{CL} + (1 - p_k)* U_{BF}$$</font>\n",
    "<center>(give more weight to the actual as time progresses)</center>\n",
    "\n",
    "$$U_{p_k}^{GB} = C_{p_k} + (1 - p_k)* U_{BF}$$\n",
    "<font color=blue>$$U_{p_k}^{GB} = C_{p_k} + q_k* U_{BF}  \\tag*{( $\\text{i.e. }q_k* U_{BF} = R_{p_k}^{GB}$)}$$</font>\n",
    "$$ \\big\\Updownarrow$$\n",
    "$$U_{p_k}^{GB} = (1 - q_k^2) * U_{p_k}^{CL} + q_k^2* U_0$$ \n"
   ]
  },
  {
   "cell_type": "markdown",
   "metadata": {
    "slideshow": {
     "slide_type": "subslide"
    }
   },
   "source": [
    "- Here, we are applying <I>BF method</I> twice in order to get ultimate GB losses. This has the effect of reducing the weight of apriori expected losses ($U_0$)\n",
    "- Esa Hovinen states that we can also apply credibility to reserves directly.\n",
    "\n",
    "$$R_{EH} = R_{GB} = p_k * R_{CL} + (1-p_k) * R_{BF}$$\n",
    "\n",
    "$$\\text{if } p_k = 0 \\text{, then we have BF reserves}$$\n",
    "$$\\text{if } p_k = 1 \\text{, then we have CL reserves}$$"
   ]
  },
  {
   "cell_type": "markdown",
   "metadata": {
    "slideshow": {
     "slide_type": "slide"
    }
   },
   "source": [
    "- Mack lists equations for iterative crediblity-weighted ultimate losses and reserves:\n",
    "\n",
    "$$ U^{(m)} = (1 - q_k^m) * U_{CL} + q_k^m * U_0$$\n",
    "$$ R^{(m)} = (1 - q_k^m) * R_{CL} + q_k^m * R_{BF}$$"
   ]
  },
  {
   "cell_type": "markdown",
   "metadata": {
    "slideshow": {
     "slide_type": "slide"
    }
   },
   "source": [
    "## Four reasons why GB is superior to BF and CL:\n",
    "1. Lower mean squared error (MSE)\n",
    "\n",
    "   - MSE($R_{GB}$) < MSE($R_{BF}$) when $c^* > \\frac{p_k}{2}$ (we have been using $p_k = c$)\n",
    "       - This implies that $c^*$ is closer to $c = p_k$ than c = 0\n",
    "<br><br>       \n",
    "2. Better approximation of the exact Bayesian procedure\n",
    "3. Superior to CL since it gives more weight to the a priori expectation of ultimate losses\n",
    "4. Superior to BF since it gives more weight to the actual loss experience"
   ]
  },
  {
   "cell_type": "code",
   "execution_count": 2,
   "metadata": {
    "slideshow": {
     "slide_type": "skip"
    }
   },
   "outputs": [],
   "source": [
    "import pandas as pd\n",
    "pd.options.display.float_format = '{:,.2f}'.format\n",
    "\n",
    "data = {'Year':[2016,2016,2016,2016, 2017,2017,2017, 2018,2018, 2019],'Development':[12,24,36,48,12,24,36,12,24,12],\n",
    "        'Losses':[7000,10500,12600,13860,8000,12000,14400,9000,13500,10000],\n",
    "        'Expected_Ult':[15000,15000,15000,15000,16000,16000,16000,17000,17000,18000]}\n",
    "df = pd.DataFrame(data)\n",
    "df = df.groupby(['Year','Development'])['Losses'].sum()\n",
    "df = df.unstack()\n",
    "df.fillna(value=0)\n",
    "\n",
    "data_ult = {'Year':[2016,2017,2018,2019],'Expected_Ult':[15000,16000,17000,18000]}\n",
    "df_ult = pd.DataFrame(data_ult)\n",
    "df_ult = df_ult.set_index('Year')\n",
    "\n",
    "data_exp_paid = {'Development':[12,24,36,48],'Expected_Paid':[.6,.8,.88,.95]}\n",
    "df_exp_paid = pd.DataFrame(data_exp_paid)\n",
    "df_exp_paid = df_exp_paid.set_index('Development')\n"
   ]
  },
  {
   "cell_type": "code",
   "execution_count": 14,
   "metadata": {
    "slideshow": {
     "slide_type": "slide"
    }
   },
   "outputs": [
    {
     "name": "stdout",
     "output_type": "stream",
     "text": [
      "Development        12        24        36        48\n",
      "Year                                               \n",
      "2016         7,000.00 10,500.00 12,600.00 13,860.00\n",
      "2017         8,000.00 12,000.00 14,400.00       nan\n",
      "2018         9,000.00 13,500.00       nan       nan\n",
      "2019        10,000.00       nan       nan       nan\n",
      "      Expected_Ult\n",
      "Year              \n",
      "2016         15000\n",
      "2017         16000\n",
      "2018         17000\n",
      "2019         18000\n",
      "             Expected_Paid\n",
      "Development               \n",
      "12                    0.60\n",
      "24                    0.80\n",
      "36                    0.88\n",
      "48                    0.95\n"
     ]
    }
   ],
   "source": [
    "# GB Method Example\n",
    "\n",
    "#Exercise - Use the given dataframe to calculate the GB \n",
    "#reserves for all the years\n",
    "\n",
    "\n",
    "print(df)\n",
    "print(df_ult)\n",
    "print(df_exp_paid)\n"
   ]
  },
  {
   "cell_type": "code",
   "execution_count": 1,
   "metadata": {
    "slideshow": {
     "slide_type": "subslide"
    }
   },
   "outputs": [],
   "source": [
    "#Use this slide to write code\n",
    "#Use df.loc[2016].loc[48] to get value for 2016 at 48 mos."
   ]
  },
  {
   "cell_type": "code",
   "execution_count": 29,
   "metadata": {
    "slideshow": {
     "slide_type": "skip"
    }
   },
   "outputs": [
    {
     "name": "stdout",
     "output_type": "stream",
     "text": [
      "2016 Reserves:  730.5\n",
      "2017 Reserves:  1958.4\n",
      "2018 Reserves:  3380.0\n",
      "2019 Reserves:  6720.0\n"
     ]
    }
   ],
   "source": [
    "#U_GB = C + q*U_BF\n",
    "\n",
    "U_BF_2016 = df.loc[2016].loc[48] + (1-df_exp_paid.loc[48][0])*df_ult.loc[2016][0]\n",
    "R_GB_2016 = U_BF_2016*(1-df_exp_paid.loc[48][0])\n",
    "\n",
    "U_BF_2017 = df.loc[2017].loc[36] + (1-df_exp_paid.loc[36][0])*df_ult.loc[2017][0]\n",
    "R_GB_2017 = U_BF_2017*(1-df_exp_paid.loc[36][0])\n",
    "\n",
    "U_BF_2018 = df.loc[2018].loc[24] + (1-df_exp_paid.loc[24][0])*df_ult.loc[2018][0]\n",
    "R_GB_2018 = U_BF_2018*(1-df_exp_paid.loc[24][0])\n",
    "\n",
    "U_BF_2019 = df.loc[2019].loc[12] + (1-df_exp_paid.loc[12][0])*df_ult.loc[2018][0]\n",
    "R_GB_2019 = U_BF_2019*(1-df_exp_paid.loc[12][0])\n",
    "\n",
    "print(\"2016 Reserves: \",R_GB_2016)\n",
    "print(\"2017 Reserves: \",R_GB_2017)\n",
    "print(\"2018 Reserves: \",R_GB_2018)\n",
    "print(\"2019 Reserves: \",R_GB_2019)"
   ]
  },
  {
   "cell_type": "markdown",
   "metadata": {
    "slideshow": {
     "slide_type": "slide"
    }
   },
   "source": [
    "$p_k \\text{ = percentage of losses paid at time k}$\n",
    "$$CDF_k =  \\frac{1}{p_k}$$"
   ]
  }
 ],
 "metadata": {
  "celltoolbar": "Slideshow",
  "kernelspec": {
   "display_name": "Python 3",
   "language": "python",
   "name": "python3"
  },
  "language_info": {
   "codemirror_mode": {
    "name": "ipython",
    "version": 3
   },
   "file_extension": ".py",
   "mimetype": "text/x-python",
   "name": "python",
   "nbconvert_exporter": "python",
   "pygments_lexer": "ipython3",
   "version": "3.7.1"
  }
 },
 "nbformat": 4,
 "nbformat_minor": 2
}
