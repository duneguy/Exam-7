{
 "cells": [
  {
   "cell_type": "markdown",
   "metadata": {
    "slideshow": {
     "slide_type": "slide"
    }
   },
   "source": [
    "## Corporate Decision Making Using an ERM\n",
    "\n",
    "- Using simulations to drive corporate decison making is known as <b>decision analysis.</b>\n",
    "\n",
    "#### Three step evolutionary process for decision analysis\n",
    "- Deterministic project analysis\n",
    "- Risk analysis\n",
    "- Certainty equivalent\n",
    "    - Some argue this step is not necessary since investors can diversify away firm-specific risk.\n",
    "        - Issue with this argument: does not provide practical advice for handling risk management within a firm."
   ]
  },
  {
   "cell_type": "markdown",
   "metadata": {
    "slideshow": {
     "slide_type": "slide"
    }
   },
   "source": [
    "## Decision Making with IRM\n",
    "\n",
    "- Since financial firms do not have actual risk capital that gets allocated to the policy, they should rely on allocating the <b>cost of capital.</b> - <font color=blue>We want to pursue activities where decrease in capital (benefit) exceeds the cost of implementation</font>\n",
    "    - Allocate risk capital\n",
    "    - Multiply the risk-adjusted capital by hurdle rate to get RORAC.\n",
    "<br><br>    \n",
    "- We can use <b>EVA</b> to determine if an activity should be pursued. - <font color=blue>Positive incremental EVA strategies should be pursued</font>.\n",
    "    - Cost of risk capital is determined directly here.<br><br>\n",
    "<center>EVA = NPV Return - Cost of Capital</center>"
   ]
  },
  {
   "cell_type": "markdown",
   "metadata": {
    "slideshow": {
     "slide_type": "slide"
    }
   },
   "source": [
    "## Economic Capital\n",
    "\n",
    "<b>Definition:</b> Refers to the VaR (value at risk) at a remote probability, such as 1-in-3000.\n",
    "\n",
    "#### Advantages of using economic capital\n",
    "- Provides a unifying measure for all risks across an organization.\n",
    "- More meaningful to management than risk-based capital or capital adequacy ratios.\n",
    "- Forces the firm to quantify the risks it faces and combines them into a probability distribution.\n",
    "- Provides a framework for setting acceptable risk levels for the organization as a whole AND for individual business units.\n",
    "\n",
    "<br>\n",
    "Note- The target economic capital level is selected to be slightly less than the actual capital being held."
   ]
  },
  {
   "cell_type": "markdown",
   "metadata": {
    "slideshow": {
     "slide_type": "slide"
    }
   },
   "source": [
    "## ERM - Risk Measures\n",
    "\n",
    "1. Moment-based measures.\n",
    "2. Tail-based measures.\n",
    "    1. VaR\n",
    "    2. TVaR\n",
    "    3. XTVaR\n",
    "    4. EPD\n",
    "    5. Value of default put option\n",
    "3. Probability transforms.\n",
    "4. Generalized moments."
   ]
  },
  {
   "cell_type": "markdown",
   "metadata": {
    "slideshow": {
     "slide_type": "subslide"
    }
   },
   "source": [
    "### Moment-based Measures\n",
    "\n",
    "- Examples: variance and standard deviation.\n",
    "\n",
    "#### Disadvantages\n",
    "- Favorable deviations are treated the same as unfavorable ones.\n",
    "- As quadratic measures, they may not adequately capture the market attitudes to risk. (i.e. they understate the risk)\n",
    "\n",
    "#### Possible Alternatives\n",
    "- Semistandard deviation - only uses unfavorable deviations.\n",
    "- Skewness - has higher moment, might capture market attitudes better.\n",
    "- Exponential moments - increases exponentially, might capture market attitudes better."
   ]
  },
  {
   "cell_type": "markdown",
   "metadata": {
    "slideshow": {
     "slide_type": "subslide"
    }
   },
   "source": [
    "### Tailed-based Measures\n",
    "- Emphasize large losses only.<br><br>\n",
    "- VaR = $X_p$\n",
    "- TVaR = $E[X|X > X_p]$\n",
    "- XTVaR = TVaR - $E[X]$\n",
    "    - When the mean is financed by other funding (i.e. something other than capital), then capital is only needed for losses above the mean.\n",
    "- EPD = $(\\text{TVaR} - VaR) \\cdot p$\n",
    "    - Gives unconditional expected value of defaulted losses.\n",
    "- Value of default put option\n",
    "    - When capital and/or reinsurance is exhausted, the firm has the right to default on its obligations and put the claims to the policyholders."
   ]
  },
  {
   "cell_type": "markdown",
   "metadata": {
    "slideshow": {
     "slide_type": "subslide"
    }
   },
   "source": [
    "### Probability Transforms\n",
    "- <b>Definition: </b>Measures risk by shifting probability towards the unfavorable outcomes and then computing the risk measure with the tranformed proababilities.<br><br>\n",
    "- Examples: CAPM and Black-Scholes formula.<br><br>\n",
    "- <b>Advantage -</b> They attempt to provide the market value of the risk being measured."
   ]
  },
  {
   "cell_type": "markdown",
   "metadata": {
    "slideshow": {
     "slide_type": "subslide"
    }
   },
   "source": [
    "### Generalized Moments\n",
    "\n",
    "- <b>Definition: </b>Expectations of a random variable that are NOT simply powers of that variable.\n",
    "- Examoples: TVaR and spectral measures."
   ]
  },
  {
   "cell_type": "markdown",
   "metadata": {
    "slideshow": {
     "slide_type": "slide"
    }
   },
   "source": [
    "## Required Capital\n",
    "\n",
    "- The amount of capital held by and insurance company is a function of:\n",
    "    - Customer reaction\n",
    "    - Capital requirements of rating agencies\n",
    "    - Comparative profitability of new and renewal business\n",
    "        - Hold enough capital to support the new business through fairly adverse event."
   ]
  },
  {
   "cell_type": "markdown",
   "metadata": {
    "slideshow": {
     "slide_type": "slide"
    }
   },
   "source": [
    "## ERM - Allocating Risk Measures\n",
    "\n",
    "1. Co-measures\n",
    "2. Marginal Impact\n",
    "3. Variance and VaR\n",
    "4. Standard deviation\n",
    "5. Exponential moment"
   ]
  },
  {
   "cell_type": "markdown",
   "metadata": {
    "slideshow": {
     "slide_type": "subslide"
    }
   },
   "source": [
    "## Ways of Allocating Risk Measure\n",
    "\n",
    "1. Allocate the overall risk to the individual business units. (aka proportional allocation)\n",
    "    - Calculate the overall risk measure\n",
    "    - Calculate risk measure of the individual business unit\n",
    "    - Allocate the overall risk measure based on the individual proportions.\n"
   ]
  },
  {
   "cell_type": "markdown",
   "metadata": {
    "slideshow": {
     "slide_type": "subslide"
    }
   },
   "source": [
    "2. Estimate the contributions of the individual business units to the overall risk.*\n",
    "    - Calculate contribution from each individual business unit under given conditions that generate a specific risk measure for the company.\n",
    "    \n",
    "#### Additive Decomposition (*)\n",
    "- <b>Definition: </b> Unit 1 + Unit 2 + Unit 3 +... = Overall Company\n",
    "- In this case, contribution of each individual business unit is known as <b>co-measure.</b>"
   ]
  },
  {
   "cell_type": "markdown",
   "metadata": {
    "slideshow": {
     "slide_type": "subslide"
    }
   },
   "source": [
    "### Marginal Impact - Taking a Derivative\n",
    "\n",
    "- <b>Definition: </b>Change in the overall company risk due to a small change in a business unit's volume should be attributed to that business unit.\n",
    "- All marginal decompositions sum up to the company risk measure. (co-measures)\n",
    "\n",
    "#### Conditions required for marginal decomposition\n",
    "1. When business units can change volume in a homogeneous fashion.\n",
    "- Works when the risk measure is scalable. ($\\rho (aY) = a \\rho (Y)$)"
   ]
  },
  {
   "cell_type": "markdown",
   "metadata": {
    "slideshow": {
     "slide_type": "subslide"
    }
   },
   "source": [
    "### Exponential Moment\n",
    "\n",
    "- Components with higher excess ratio factors get a higher allocation of capital."
   ]
  },
  {
   "cell_type": "markdown",
   "metadata": {
    "slideshow": {
     "slide_type": "slide"
    }
   },
   "source": [
    "## Using Decomposition\n",
    "- Decomposition of a risk measure to measure risk-adjusted profitability of business units works best if the risk measure is proportional to the market value of the risk. Thus, business units with higher ratios yield more profit.\n",
    "    - $\\text{risk measure} \\propto \\text{market value of risk} \\rightarrow \\frac{\\text{unit's profit}}{\\text{risk measure}} \\propto \\frac{\\text{unit's profit}}{\\text{market value}}$"
   ]
  },
  {
   "cell_type": "markdown",
   "metadata": {
    "slideshow": {
     "slide_type": "slide"
    }
   },
   "source": [
    "## Allocating the Cost of Capital\n",
    "\n",
    "- Set the minimum profit target of a business unit equal to the value of its right to call upon the capital of the firm. Then, the excess of the unit's profit over this cost of capital is added value for the firm.\n",
    "    - The right here is the cost of capital.\n",
    "    - This is like a stop-loss agreement where a business unit can either make money or break even.\n",
    "        - Can also be used to calculate capital cost at the break-even point."
   ]
  },
  {
   "cell_type": "markdown",
   "metadata": {
    "slideshow": {
     "slide_type": "slide"
    }
   },
   "source": [
    "## Leverage Ratios\n",
    "\n",
    "- Examples: $\\frac{Premium}{Surplus}$ or $\\frac{Reserve}{Surplus}$\n",
    "\n",
    "#### Disadvantages\n",
    "1. They do not distinguish among business classes.\n",
    "2. They do not incorporate risks other than UW risks."
   ]
  },
  {
   "cell_type": "markdown",
   "metadata": {
    "slideshow": {
     "slide_type": "slide"
    }
   },
   "source": [
    "## Risk-Based Capital Models\n",
    "\n",
    "- Consider the following risks (CRIP):\n",
    "    - Invested asset risk\n",
    "    - Credit risk\n",
    "    - Premium risk\n",
    "    - Reserve risk\n",
    "    \n",
    "#### Reasons for significant differences among RBC models\n",
    "- Use of models: long term viability vs one-year likelihood of insolvency\n",
    "- Presence of covariance adjustment - intended to reflect the independence of various risk components."
   ]
  },
  {
   "cell_type": "markdown",
   "metadata": {
    "slideshow": {
     "slide_type": "slide"
    }
   },
   "source": [
    "## Scenario Testing\n",
    "- Scenario testing for measuring capital adequacy typically involves preparation of a 1 to 5 year financial projection model and the incorporation of probability distributions for as many sources of uncertainty as can be modeled.\n",
    "\n",
    "#### Critical features\n",
    "- Correlation among risks.\n",
    "- Reflection of management responses to adverse financial results (for multi-year models)."
   ]
  },
  {
   "cell_type": "markdown",
   "metadata": {
    "slideshow": {
     "slide_type": "slide"
    }
   },
   "source": [
    "## Asset Liability Management\n",
    "\n",
    "- Considers following risks:\n",
    "    - Interest rate risk\n",
    "    - Inflation risk\n",
    "    - Credit risk\n",
    "    - Market risk\n",
    "    "
   ]
  },
  {
   "cell_type": "markdown",
   "metadata": {
    "slideshow": {
     "slide_type": "slide"
    }
   },
   "source": [
    "## Value of Reinsurance\n",
    "\n",
    "- <b>Cost of reinsurance</b> = Ceded premiums - expected recoveries (loss and expense)\n",
    "\n",
    "#### Advantages of reinsurance\n",
    "- Provides stability\n",
    "- Frees up capital\n",
    "    - ROE = $\\frac{\\text{Cost of Reinsurance}}{\\text{Capital Freed Up}}$\n",
    "        - As long as ROE is less than firm's target return, the purchase is a good decision.\n",
    "            - We can invest the freed capital to get target return.\n",
    "- Adds market value to the firm"
   ]
  },
  {
   "cell_type": "markdown",
   "metadata": {
    "slideshow": {
     "slide_type": "subslide"
    }
   },
   "source": [
    "- To gauge whether a reinsurance program offers adequate protection we have to look at <b>net pre-tax UW result</b> statistics (safety level, mean, std, largest and smallest simulated values) and <b>individual distributions</b>\n",
    "    - Can't compare distribution of differences since 99th percentile of one would not be the same event as 99th percentile of another.\n"
   ]
  },
  {
   "cell_type": "markdown",
   "metadata": {
    "slideshow": {
     "slide_type": "subslide"
    }
   },
   "source": [
    "<center><img src='images/Brehm-Reins.JPG'></center>\n",
    "\n",
    "- To be efficient at a selected probability, a more expensive program (higher cost) has to have a lower loss level (higher net UW income) at that probability.\n",
    "    - In this case, current program is NOT efficient at any level,"
   ]
  },
  {
   "cell_type": "markdown",
   "metadata": {
    "slideshow": {
     "slide_type": "subslide"
    }
   },
   "source": [
    "### Reinsurance as capital\n",
    "- Marginal ROE = $\\frac{\\text{Cost of reinsurance}}{\\text{Change in required capital}}$\n",
    "\n",
    "- <b>Release capital:</b> Purchase reinsurance to reduce capital needs.\n",
    "- <b>Consuming capital:</b>Change reinsurance to require higher capital. (cheaper/less reins. coverage)\n",
    "<br><br>\n",
    "- We can compare marginal ROE to gauge which reinsurance program is better (<b>releasing capital</b>).\n",
    "    - Programs with lower marginal ROE's are preferred.\n",
    "    - Program with marginal ROE lower than the cost of capital are preferred.\n"
   ]
  },
  {
   "cell_type": "markdown",
   "metadata": {
    "slideshow": {
     "slide_type": "subslide"
    }
   },
   "source": [
    "- We can compare marginal ROE to gauge which reinsurance program is better (<b>consuming capital</b>).\n",
    "    - Programs with higher marginal ROE's are preferred.\n",
    "    - Program with marginal ROE higher than the cost of capital are preferred."
   ]
  },
  {
   "cell_type": "markdown",
   "metadata": {
    "slideshow": {
     "slide_type": "slide"
    }
   },
   "source": [
    "## Models for Required Capital\n",
    "\n",
    "1. <b>Theoretical models -</b> Those that derive required capital, and changes in required capital, based on the calculated risk metrics from the enterprise risk model (such as VaR, TVaR, etc.)\n",
    "<br><br>\n",
    "2. <b>Practical models -</b> Those that derive required capital based on rating agencies (ex. BCAR, S&P CAR), regulatory requirements (ex. RBC, ICAR), or actual capital."
   ]
  },
  {
   "cell_type": "markdown",
   "metadata": {
    "slideshow": {
     "slide_type": "subslide"
    }
   },
   "source": [
    "#### Disadvantage of practical models\n",
    "- They rely on risk proxies (such as premiums or reserves) rather than relying on the risk itself.\n",
    "    - Can be compensated for by building rating agency and regulatory models into the ERM.\n",
    "        - A capital score can be calculated for each scenario and a prob distribution of capital scores can be produced."
   ]
  },
  {
   "cell_type": "markdown",
   "metadata": {
    "slideshow": {
     "slide_type": "slide"
    }
   },
   "source": [
    "## As-if Loss Reserves\n",
    "\n",
    "- Loss reserves consume capital over multiple periods, this creates <b>accumulated risks.</b>\n",
    "    - Inclusion of this shows that UW results have more widespread distribution and capital consumed is greater.\n",
    "<br><br>\n",
    "- <b>As-if loss reserves:</b> Reserves that would exist the beginning of the AY if that business had been written in a steady state in all prior years.\n",
    "<br><br>\n",
    "- As-if loss reserves (prior year reserves) + current AY = capital absorbed by an AY over time."
   ]
  },
  {
   "cell_type": "markdown",
   "metadata": {
    "slideshow": {
     "slide_type": "subslide"
    }
   },
   "source": [
    "#### Advantages of as-if loss reserves\n",
    "- It can measure the impact of accumulated risk caused by correlated risk factors across accident years.\n",
    "- The reinsurance being considered can be applied to the AY and as-if reserves, providing a more valid measure of the impact of reinsurance on accumulated risk and on capital absorbed over the full life of the AY."
   ]
  }
 ],
 "metadata": {
  "celltoolbar": "Slideshow",
  "kernelspec": {
   "display_name": "Python 3",
   "language": "python",
   "name": "python3"
  },
  "language_info": {
   "codemirror_mode": {
    "name": "ipython",
    "version": 3
   },
   "file_extension": ".py",
   "mimetype": "text/x-python",
   "name": "python",
   "nbconvert_exporter": "python",
   "pygments_lexer": "ipython3",
   "version": "3.7.1"
  }
 },
 "nbformat": 4,
 "nbformat_minor": 2
}
